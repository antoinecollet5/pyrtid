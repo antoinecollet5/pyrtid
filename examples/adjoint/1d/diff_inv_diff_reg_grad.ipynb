{
    "cells": [
        {
            "cell_type": "markdown",
            "metadata": {},
            "source": [
                "# Gradient verification for the 1D pure diffusion case"
            ]
        },
        {
            "cell_type": "markdown",
            "metadata": {},
            "source": [
                "The goal here is to verify the correctness of the adjoint state method in HYTEC by comparing the results with the demonstrator's which are considered as correct."
            ]
        },
        {
            "cell_type": "code",
            "execution_count": 1,
            "metadata": {},
            "outputs": [],
            "source": [
                "from pathlib import Path\n",
                "import copy\n",
                "import time\n",
                "from typing import Dict, Generator\n",
                "import pyrtid\n",
                "import pyrtid.forward as dmfwd\n",
                "import pyrtid.inverse as dminv\n",
                "import nested_grid_plotter as ngp\n",
                "import matplotlib.pyplot as plt\n",
                "from matplotlib.collections import PolyCollection\n",
                "from matplotlib.animation import HTMLWriter\n",
                "from IPython.display import HTML\n",
                "import numpy as np\n",
                "import os\n",
                "import pandas as pd\n",
                "import scipy as sp\n",
                "import gstools as gs\n",
                "from pyrtid.utils import (\n",
                "    NDArrayFloat,\n",
                "    NDArrayInt,\n",
                "    gen_random_ensemble,\n",
                "    node_number_to_indices,\n",
                ")\n",
                "\n",
                "gs.config.USE_RUST = True  # Use the rust implementation of gstools"
            ]
        },
        {
            "cell_type": "markdown",
            "metadata": {},
            "source": [
                "- Type hints definition for numpy arrays"
            ]
        },
        {
            "cell_type": "markdown",
            "metadata": {},
            "source": [
                "- Check package/software versions"
            ]
        },
        {
            "cell_type": "code",
            "execution_count": 2,
            "metadata": {},
            "outputs": [],
            "source": [
                "pyrtid.utils.show_versions()"
            ]
        },
        {
            "cell_type": "markdown",
            "metadata": {},
            "source": [
                "- Create a directory to store the exported figures"
            ]
        },
        {
            "cell_type": "code",
            "execution_count": 3,
            "metadata": {},
            "outputs": [],
            "source": [
                "ipynb_path = os.path.dirname(os.path.realpath(\"__file__\"))\n",
                "fig_save_path = Path(ipynb_path, \"exported_figures\")\n",
                "fig_save_path.mkdir(parents=True, exist_ok=True)  # make sure that the directory exists"
            ]
        },
        {
            "cell_type": "markdown",
            "metadata": {},
            "source": [
                "- Define some configurations for the plots"
            ]
        },
        {
            "cell_type": "code",
            "execution_count": 4,
            "metadata": {},
            "outputs": [],
            "source": [
                "# Some configs for the plots\n",
                "new_rc_params = {\n",
                "    \"font.family\": \"sans-serif\",\n",
                "    \"font.sans-serif\": [\"Helvetica\", \"DejaVu Sans\"],\n",
                "    \"font.size\": 16,\n",
                "    \"text.usetex\": False,\n",
                "    \"savefig.format\": \"svg\",\n",
                "    \"svg.fonttype\": \"none\",  # to store text as text, not as path\n",
                "    \"savefig.facecolor\": \"w\",\n",
                "    \"savefig.edgecolor\": \"k\",\n",
                "    \"savefig.dpi\": 300,\n",
                "    \"figure.constrained_layout.use\": True,\n",
                "    \"figure.facecolor\": \"w\",\n",
                "    \"axes.facecolor\": \"w\",\n",
                "}\n",
                "csfont = {\"fontname\": \"Comic Sans MS\"}\n",
                "hfont = {\"fontname\": \"Helvetica\"}\n",
                "plt.plot()\n",
                "plt.close()  # required for the plot to update\n",
                "plt.rcParams.update(new_rc_params)"
            ]
        },
        {
            "cell_type": "markdown",
            "metadata": {},
            "source": [
                "## Forward problem\n",
                "\n",
                "- Define a very simple pure diffusion case in 1D."
            ]
        },
        {
            "cell_type": "code",
            "execution_count": 5,
            "metadata": {},
            "outputs": [],
            "source": [
                "nx = 20  # number of voxels along the x axis\n",
                "ny = 1  # number of voxels along the y axis\n",
                "dx = 10.0  # voxel dimension along the x axis\n",
                "dy = 10.0  # voxel dimension along the y axis\n",
                "nt = 200  # number of time steps\n",
                "dt = 4000.0  # timestep in seconds\n",
                "c0 = 0  # general initial cocentration\n",
                "D0 = 1e-3  # general initial diffusion coefficient\n",
                "w0 = 0.23  # general porosity\n",
                "wdif = 1.0  # Diffusion\n",
                "wadv = 0.0  # No avection"
            ]
        },
        {
            "cell_type": "markdown",
            "metadata": {},
            "source": [
                "- Create an initial \"bumped\" reference distribution for the diffusion, and a flat one for the initial estimation."
            ]
        },
        {
            "cell_type": "code",
            "execution_count": 6,
            "metadata": {},
            "outputs": [
                {
                    "data": {
                        "image/png": "[encoded data removed]",
                        "text/plain": [
                            "<Figure size 800x500 with 1 Axes>"
                        ]
                    },
                    "metadata": {},
                    "output_type": "display_data"
                }
            ],
            "source": [
                "# Exact mineral distribution\n",
                "diffusion_true: NDArrayFloat = np.ones(nx) * D0\n",
                "\n",
                "# Estimated diffusion\n",
                "diffusion_estimated: NDArrayFloat = np.ones(nx) * D0 * 10\n",
                "\n",
                "plotter = ngp.NestedGridPlotter(fig_params={\"figsize\": (8, 5)})\n",
                "plotter.ax_dict[\"ax1-1\"].plot(\n",
                "    np.arange(nx) * dx + dx / 2, diffusion_true, label=\"True diffusion field\"\n",
                ")\n",
                "plotter.ax_dict[\"ax1-1\"].plot(\n",
                "    np.arange(nx) * dx + dx / 2,\n",
                "    diffusion_estimated,\n",
                "    label=\"Initial guess for the diffusion field\",\n",
                ")\n",
                "plotter.ax_dict[\"ax1-1\"].set_xlabel(\"Position [m]\", weight=\"bold\")\n",
                "plotter.ax_dict[\"ax1-1\"].set_ylabel(\"Diffusion (m2/s)\", weight=\"bold\")\n",
                "plotter.ax_dict[\"ax1-1\"].set_yscale(\"log\")\n",
                "plotter.ax_dict[\"ax1-1\"].legend(loc=\"center\", bbox_to_anchor=(0.5, -0.3), ncol=2)\n",
                "plotter.ax_dict[\"ax1-1\"].set_title(\"True vs. estimated diffusion field\")\n",
                "plotter.fig.set_facecolor(\"w\")\n",
                "\n",
                "fname = \"true_vs_estimated_diffusion_field\"\n",
                "for format in [\"png\", \"pdf\"]:\n",
                "    plotter.savefig((fig_save_path.joinpath(f\"{fname}.{format}\")), format=format)"
            ]
        },
        {
            "cell_type": "markdown",
            "metadata": {},
            "source": [
                "### Forward problem in demonstrator"
            ]
        },
        {
            "cell_type": "markdown",
            "metadata": {},
            "source": [
                "- For c_init, need to apply nx+1 in the case of the finite differences for the parameters because of the spatial discretization scheme (finite differences and finite volumes respectively)."
            ]
        },
        {
            "cell_type": "code",
            "execution_count": 7,
            "metadata": {},
            "outputs": [
                {
                    "ename": "NameError",
                    "evalue": "name 'RTModel' is not defined",
                    "output_type": "error",
                    "traceback": [
                        "\u001b[0;31m---------------------------------------------------------------------------\u001b[0m",
                        "\u001b[0;31mNameError\u001b[0m                                 Traceback (most recent call last)",
                        "\u001b[1;32m/home/acollet/workspace/pyrtid/examples/adjoint/1d/diff_inv_diff_reg_grad.ipynb Cell 17\u001b[0m line \u001b[0;36m2\n\u001b[1;32m      <a href='vscode-notebook-cell:/home/acollet/workspace/pyrtid/examples/adjoint/1d/diff_inv_diff_reg_grad.ipynb#X22sZmlsZQ%3D%3D?line=0'>1</a>\u001b[0m \u001b[39m# We define a function to easily generate a model.\u001b[39;00m\n\u001b[0;32m----> <a href='vscode-notebook-cell:/home/acollet/workspace/pyrtid/examples/adjoint/1d/diff_inv_diff_reg_grad.ipynb#X22sZmlsZQ%3D%3D?line=1'>2</a>\u001b[0m \u001b[39mdef\u001b[39;00m \u001b[39mcreate_base_model\u001b[39m() \u001b[39m-\u001b[39m\u001b[39m>\u001b[39m RTModel:\n\u001b[1;32m      <a href='vscode-notebook-cell:/home/acollet/workspace/pyrtid/examples/adjoint/1d/diff_inv_diff_reg_grad.ipynb#X22sZmlsZQ%3D%3D?line=2'>3</a>\u001b[0m     \u001b[39mreturn\u001b[39;00m RTModel(nx \u001b[39m+\u001b[39m \u001b[39m1\u001b[39m, ny, dx, dy, nt, dt, c0, D0, w0, wadv\u001b[39m=\u001b[39mwadv, wdiff\u001b[39m=\u001b[39mwdif)\n",
                        "\u001b[0;31mNameError\u001b[0m: name 'RTModel' is not defined"
                    ]
                }
            ],
            "source": [
                "# We define a function to easily generate a model.\n",
                "def create_base_model() -> RTModel:\n",
                "    return RTModel(nx + 1, ny, dx, dy, nt, dt, c0, D0, w0, wadv=wadv, wdiff=wdif)"
            ]
        },
        {
            "cell_type": "markdown",
            "metadata": {},
            "source": [
                "- Create two models"
            ]
        },
        {
            "cell_type": "code",
            "execution_count": null,
            "metadata": {},
            "outputs": [],
            "source": [
                "model_true = create_base_model()\n",
                "model_estimate = create_base_model()\n",
                "# Exact diffusion\n",
                "model_true.D = diffusion_true.reshape(nx, 1)\n",
                "# Estimated diffusion\n",
                "model_estimate.D = diffusion_estimated.reshape(nx, 1)\n",
                "\n",
                "tmp = np.insert(c_init, -1, values=c_init[-1]).reshape(nx + 1, 1)\n",
                "model_true.c_init[:, :] = tmp\n",
                "model_estimate.c_init[:, :] = tmp"
            ]
        },
        {
            "cell_type": "markdown",
            "metadata": {},
            "source": [
                "- Run the models"
            ]
        },
        {
            "cell_type": "code",
            "execution_count": null,
            "metadata": {},
            "outputs": [],
            "source": [
                "solver_true = RTSolver(model_true)\n",
                "solver_true.solve()\n",
                "\n",
                "solver_estimate = RTSolver(model_estimate)\n",
                "solver_estimate.solve()"
            ]
        },
        {
            "cell_type": "markdown",
            "metadata": {},
            "source": [
                "### Forward problem definition in HYTEC"
            ]
        },
        {
            "cell_type": "markdown",
            "id": "c5dc1e29",
            "metadata": {},
            "source": [
                "- Define a runner"
            ]
        },
        {
            "cell_type": "code",
            "execution_count": null,
            "id": "529e9165",
            "metadata": {},
            "outputs": [],
            "source": [
                "if runner_type == RunnerType.FRONTAL:\n",
                "    runner = FrontalHytecRunner(\n",
                "        hytec_binary_path_or_alias=hytec_binary_path_or_alias,\n",
                "        mpi_binary_path_or_alias=mpi_binary_path_or_alias,\n",
                "        nb_cpu=4,\n",
                "        freq_checks_is_simu_over_sec=5,\n",
                "    )\n",
                "elif runner_type == RunnerType.SLURM:\n",
                "    job_config = JobConfig(\n",
                "        hytec_binary_path_or_alias=hytec_binary_path_or_alias,\n",
                "        nb_nodes=1,\n",
                "        ncpus=4,\n",
                "        queue=\"geo-cpu\",\n",
                "        mpi_binary_path_or_alias=mpi_binary_path_or_alias,\n",
                "        dos2unix_binary_path_or_alias=dos2unix_binary_path_or_alias,\n",
                "    )\n",
                "    runner = SlurmHytecRunner(\n",
                "        job_config=job_config,\n",
                "        freq_checks_is_simu_over_sec=5,\n",
                "    )\n",
                "elif runner_type == RunnerType.QSUB:\n",
                "    job_config = JobConfig(\n",
                "        hytec_binary_path_or_alias=hytec_binary_path_or_alias,\n",
                "        nb_nodes=1,\n",
                "        ncpus=4,\n",
                "        queue=\"Omines_cpu\",\n",
                "        mpi_binary_path_or_alias=mpi_binary_path_or_alias,\n",
                "        dos2unix_binary_path_or_alias=dos2unix_binary_path_or_alias,\n",
                "    )\n",
                "    runner = QsubHytecRunner(\n",
                "        job_config=job_config,\n",
                "        freq_checks_is_simu_over_sec=5,\n",
                "    )\n",
                "else:\n",
                "    raise Exception(\"Could not created runner\")"
            ]
        },
        {
            "cell_type": "markdown",
            "metadata": {},
            "source": [
                "- Create an empty simulation in a non existing folder"
            ]
        },
        {
            "cell_type": "code",
            "execution_count": null,
            "metadata": {},
            "outputs": [],
            "source": [
                "simu_base = HytecSimulation(\"simu_base\", Path.cwd().joinpath(\"simu_base\"))"
            ]
        },
        {
            "cell_type": "markdown",
            "metadata": {},
            "source": [
                "- Add a TDB file"
            ]
        },
        {
            "cell_type": "code",
            "execution_count": null,
            "metadata": {},
            "outputs": [],
            "source": [
                "simu_base.link_tdb(\"./../../../../TDB/chess.tdb\")  # This is relative to the htc file"
            ]
        },
        {
            "cell_type": "markdown",
            "metadata": {},
            "source": [
                "- Define the output format"
            ]
        },
        {
            "cell_type": "code",
            "execution_count": null,
            "metadata": {},
            "outputs": [],
            "source": [
                "simu_base.model.add_sub_item(hymd.OutputFormat(\"vtk\"))"
            ]
        },
        {
            "cell_type": "markdown",
            "metadata": {},
            "source": [
                "- Hydrodynamic model and its parameters definition"
            ]
        },
        {
            "cell_type": "code",
            "execution_count": null,
            "metadata": {},
            "outputs": [],
            "source": [
                "hmodel = hymd.HydrodynamicModel()\n",
                "hmodel.add_sub_item(hymd.FlowRegime(\"stationary\"))\n",
                "hmodel.add_sub_item(hymd.Porosity(w0))\n",
                "hmodel.add_sub_item(hymd.Permeability(0.0, units=\"m/s\"))\n",
                "hmodel.add_sub_item(hymd.DiffusionCoefficient(D0, units=\"m2/s\"))\n",
                "hmodel.add_sub_item(hymd.Head(0.0, \"m\"))\n",
                "simu_base.model.add_sub_item(hmodel)"
            ]
        },
        {
            "cell_type": "markdown",
            "metadata": {},
            "source": [
                "- Geochemical unit definition"
            ]
        },
        {
            "cell_type": "code",
            "execution_count": null,
            "metadata": {},
            "outputs": [],
            "source": [
                "chmodel = hymd.GeochemicalModel(hymd.Report(\"full\"), hymd.Redox(\"disabled\"))\n",
                "# Define a geochem units\n",
                "base_unit = hymd.GeochemicalUnit(\"chem_base\")\n",
                "left_unit = hymd.GeochemicalUnit(\"chem_left\")\n",
                "right_unit = hymd.GeochemicalUnit(\"chem_right\")\n",
                "species = \"T\"\n",
                "# Set concentrations\n",
                "base_unit.add_sub_item(hymd.Concentration(species, 1.0, units=\"molal\"))\n",
                "left_unit.add_sub_item(hymd.Concentration(species, 3.0, units=\"molal\"))\n",
                "right_unit.add_sub_item(hymd.Concentration(species, 2.0, units=\"molal\"))\n",
                "\n",
                "# define tracer\n",
                "chmodel.add_sub_item(hymd.Define(\"basis\", species))\n",
                "\n",
                "# exclude\n",
                "chmodel.add_sub_item(hymd.Exclude((\"minerals\", \"colloids\", \"gases\")))\n",
                "\n",
                "# Add the units to the geochemical model\n",
                "chmodel.add_sub_item(base_unit)\n",
                "chmodel.add_sub_item(left_unit)\n",
                "chmodel.add_sub_item(right_unit)\n",
                "\n",
                "# Add to the main model\n",
                "simu_base.model.add_sub_item(chmodel)"
            ]
        },
        {
            "cell_type": "markdown",
            "metadata": {},
            "source": [
                "- Geometry definition"
            ]
        },
        {
            "cell_type": "code",
            "execution_count": null,
            "metadata": {},
            "outputs": [],
            "source": [
                "gmodel = hymd.GeometryModel(\n",
                "    hymd.GridRegime(\"rectangle\"), hymd.Domain(f\"{nx*dx},{nx} {ny*dy},{ny}\")\n",
                ")\n",
                "zone_domain = hymd.Zone(\n",
                "    \"domain\", hymd.Geometry(\"domain\"), hymd.Geochemistry(base_unit.name)\n",
                ")\n",
                "gmodel.add_sub_item(zone_domain)\n",
                "simu_base.model.add_sub_item(gmodel)"
            ]
        },
        {
            "cell_type": "markdown",
            "metadata": {},
            "source": [
                "- Boundary model definition"
            ]
        },
        {
            "cell_type": "code",
            "execution_count": null,
            "metadata": {},
            "outputs": [],
            "source": [
                "# Boundary conditions\n",
                "flc = hymd.FlowCondition(\"constant-head at 0 m\")\n",
                "lcc = hymd.TransportCondition(f\"constant-conc using {left_unit.name}\")\n",
                "rcc = hymd.TransportCondition(f\"constant-conc using {right_unit.name}\")\n",
                "bmodel = hymd.BoundaryModel(\n",
                "    hymd.Boundary(\n",
                "        \"border_left\", hymd.Coordinates(f\"0,0, 0,{ny*dy}\", units=\"m\"), lcc, flc\n",
                "    ),\n",
                "    hymd.Boundary(\n",
                "        \"border_right\",\n",
                "        hymd.Coordinates(f\"{nx*dx},{ny*dy}, {nx*dx},0\", units=\"m\"),\n",
                "        rcc,\n",
                "        flc,\n",
                "    ),\n",
                ")\n",
                "simu_base.model.add_sub_item(bmodel)"
            ]
        },
        {
            "cell_type": "markdown",
            "metadata": {},
            "source": [
                "- Time discretization"
            ]
        },
        {
            "cell_type": "code",
            "execution_count": null,
            "metadata": {},
            "outputs": [],
            "source": [
                "tmodel = hymd.TimeDiscretizationModel(\n",
                "    hymd.Duration(nt * dt, units=\"s\"),\n",
                "    hymd.TimeStep(\n",
                "        hymd.Variable(\n",
                "            hymd.StartValue(dt, \"s\"), hymd.Maximum(dt, \"s\"), hymd.CourantFactor(20.0)\n",
                "        ),\n",
                "    ),\n",
                ")\n",
                "simu_base.model.add_sub_item(tmodel)"
            ]
        },
        {
            "cell_type": "markdown",
            "metadata": {},
            "source": [
                "- Sampling definition"
            ]
        },
        {
            "cell_type": "code",
            "execution_count": null,
            "metadata": {},
            "outputs": [],
            "source": [
                "smodel = hymd.SamplingModel(\n",
                "    hymd.GridSampling(nt),\n",
                "    hymd.Select(\"time\", units=\"s\"),\n",
                "    hymd.Select(\"node-number\"),\n",
                "    hymd.Select(\"diffusion\", units=\"m2/s\"),\n",
                "    hymd.Select(species, units=\"mol/kg\"),\n",
                ")\n",
                "simu_base.model.add_sub_item(smodel)"
            ]
        },
        {
            "cell_type": "markdown",
            "metadata": {},
            "source": [
                "- Create two models from this base simulation"
            ]
        },
        {
            "cell_type": "code",
            "execution_count": null,
            "metadata": {},
            "outputs": [],
            "source": [
                "simu_reference = copy.deepcopy(simu_base)\n",
                "simu_reference.update_root_and_name(\n",
                "    new_root=\"simu_reference\", new_name=\"simu_reference\"\n",
                ")\n",
                "simu_estimate = copy.deepcopy(simu_base)\n",
                "simu_estimate.update_root_and_name(new_root=\"simu_estimate\", new_name=\"simu_estimate\")"
            ]
        },
        {
            "cell_type": "markdown",
            "metadata": {},
            "source": [
                "- Add the diffusion fields to the simulations"
            ]
        },
        {
            "cell_type": "code",
            "execution_count": null,
            "metadata": {},
            "outputs": [],
            "source": [
                "index: NDArrayFloat = np.arange(nx)\n",
                "\n",
                "# True\n",
                "data_true = pd.DataFrame(\n",
                "    data={\n",
                "        \"node-number\": index,\n",
                "        # x and y are cell centers\n",
                "        \"x\": (index % nx) * dx + dx / 2,\n",
                "        \"porosity\": 1.0,\n",
                "        \"diffusion\": diffusion_true.ravel(),\n",
                "    },  # need to flatten the parameter\n",
                "    index=index,\n",
                ")\n",
                "simu_reference.add_param_file_data(ParameterFiles.HYDRO, data_true)\n",
                "\n",
                "# Estimated\n",
                "data_estimated = pd.DataFrame(\n",
                "    data={\n",
                "        \"node-number\": index,\n",
                "        # x and y are cell centers\n",
                "        \"x\": (index % nx) * dx + dx / 2,\n",
                "        \"porosity\": 1.0,\n",
                "        \"diffusion\": diffusion_estimated.ravel(),\n",
                "    },  # need to flatten the parameter\n",
                "    index=index,\n",
                ")\n",
                "simu_estimate.add_param_file_data(ParameterFiles.HYDRO, data_estimated)"
            ]
        },
        {
            "cell_type": "markdown",
            "metadata": {},
            "source": [
                "- Checking the hydro parameters have been correctly set-up"
            ]
        },
        {
            "cell_type": "code",
            "execution_count": null,
            "metadata": {},
            "outputs": [],
            "source": [
                "simu_reference.handlers.hydro.data"
            ]
        },
        {
            "cell_type": "code",
            "execution_count": null,
            "metadata": {},
            "outputs": [],
            "source": [
                "simu_estimate.handlers.hydro.data"
            ]
        },
        {
            "cell_type": "code",
            "execution_count": null,
            "metadata": {},
            "outputs": [],
            "source": [
                "simu_reference.write_input_files()\n",
                "simu_estimate.write_input_files()\n",
                "runner.run(simu_reference)\n",
                "runner.run(simu_estimate)"
            ]
        },
        {
            "cell_type": "markdown",
            "metadata": {},
            "source": [
                "### Comparison between hytec and the demonstrator for the forward problem"
            ]
        },
        {
            "cell_type": "markdown",
            "metadata": {},
            "source": [
                "- Reading the results for the reference diffusion simulation"
            ]
        },
        {
            "cell_type": "code",
            "execution_count": null,
            "metadata": {},
            "outputs": [],
            "source": [
                "simu_reference.read_hytec_results()\n",
                "simu_reference.handlers.results.grid_res_columns"
            ]
        },
        {
            "cell_type": "code",
            "execution_count": null,
            "metadata": {},
            "outputs": [],
            "source": [
                "fwd_conc_true_hytec = simu_reference.handlers.results.extract_field_from_grid_res(\n",
                "    field=\"T [mol/kg]\", nx=nx\n",
                ")\n",
                "diff_true_hytec = simu_reference.handlers.results.extract_field_from_grid_res(\n",
                "    field=\"diffusion [m2/s]\", nx=nx\n",
                ")\n",
                "# Getting sample time. The unit is the same than the one defined for the simulation duration in the htc\n",
                "flux_sample_times = simu_reference.handlers.results.get_sample_times_from_grid_res()"
            ]
        },
        {
            "cell_type": "markdown",
            "metadata": {},
            "source": [
                "- Reading the results for the estimated diffusion simulation"
            ]
        },
        {
            "cell_type": "code",
            "execution_count": null,
            "metadata": {},
            "outputs": [],
            "source": [
                "simu_estimate.read_hytec_results()\n",
                "simu_estimate.handlers.results.grid_res_columns"
            ]
        },
        {
            "cell_type": "code",
            "execution_count": null,
            "metadata": {},
            "outputs": [],
            "source": [
                "# Get the results on a 3D grid with the last dimension as time step\n",
                "fwd_conc_estimate_hytec = simu_estimate.handlers.results.extract_field_from_grid_res(\n",
                "    field=\"T [mol/kg]\", nx=nx\n",
                ")\n",
                "diff_estimate_hytec = simu_estimate.handlers.results.extract_field_from_grid_res(\n",
                "    field=\"diffusion [m2/s]\", nx=nx\n",
                ")"
            ]
        },
        {
            "cell_type": "markdown",
            "metadata": {},
            "source": [
                "- Some fun plots, not very informative though..."
            ]
        },
        {
            "cell_type": "code",
            "execution_count": null,
            "metadata": {},
            "outputs": [],
            "source": [
                "# Let's create a 3D plotter to visualize the results\n",
                "plotter_3d = ngp.NestedGridPlotter(\n",
                "    fig_params={\"constrained_layout\": True, \"figsize\": (13, 6)},\n",
                "    subfigs_params={\"ncols\": 4},\n",
                "    subplots_mosaic_params={\n",
                "        \"reference demonstrator\": {\n",
                "            \"mosaic\": [[\"ax1-1\"]],\n",
                "            \"subplot_kw\": {\"projection\": \"3d\"},\n",
                "        },\n",
                "        \"estimate demonstrator\": {\n",
                "            \"mosaic\": [[\"ax1-2\"]],\n",
                "            \"subplot_kw\": {\"projection\": \"3d\"},\n",
                "        },\n",
                "        \"reference hytec\": {\"mosaic\": [[\"ax1-3\"]], \"subplot_kw\": {\"projection\": \"3d\"}},\n",
                "        \"estimate hytec\": {\"mosaic\": [[\"ax1-4\"]], \"subplot_kw\": {\"projection\": \"3d\"}},\n",
                "    },\n",
                ")\n",
                "plotter_3d.fig.patch.set_facecolor(\"w\")\n",
                "\n",
                "data: NDArrayFloat = solver_true.model.fwd_conc[:, 0, :]\n",
                "X, Y = np.meshgrid(np.arange(data.shape[0]), np.arange(data.shape[1]))\n",
                "ax = plotter_3d.ax_dict[\"ax1-1\"]\n",
                "ax.plot_surface(X, Y, data.T, cmap=plt.cm.coolwarm)\n",
                "# Inverse the time axis to get a better display\n",
                "ax.set_ylim(reversed(ax.get_ylim()))\n",
                "plotter_3d.subfigs[\"reference demonstrator\"].suptitle(\"True demonstrator\")\n",
                "ax.set_xlabel(\"Nodes #\")\n",
                "ax.set_ylabel(\"Timestep #\")\n",
                "ax.set_zlabel(\"Tracer concentration [molal]\")\n",
                "\n",
                "data: NDArrayFloat = solver_estimate.model.fwd_conc[:, 0, :]\n",
                "ax = plotter_3d.ax_dict[\"ax1-2\"]\n",
                "ax.plot_surface(X, Y, data.T, cmap=plt.cm.coolwarm, alpha=0.9)\n",
                "# Inverse the time axis to get a better display\n",
                "ax.set_ylim(reversed(ax.get_ylim()))\n",
                "plotter_3d.subfigs[\"estimate demonstrator\"].suptitle(\"Estimate demonstrator\")\n",
                "\n",
                "data: NDArrayFloat = fwd_conc_true_hytec[:, 0, 0, :]\n",
                "X, Y = np.meshgrid(np.arange(data.shape[0]), np.arange(data.shape[1]))\n",
                "ax = plotter_3d.ax_dict[\"ax1-3\"]\n",
                "ax.plot_surface(X, Y, data.T, cmap=plt.cm.coolwarm, alpha=0.9)\n",
                "# Inverse the time axis to get a better display\n",
                "ax.set_ylim(reversed(ax.get_ylim()))\n",
                "plotter_3d.subfigs[\"reference hytec\"].suptitle(\"True Hytec\")\n",
                "\n",
                "data: NDArrayFloat = fwd_conc_estimate_hytec[:, 0, 0, :]\n",
                "ax = plotter_3d.ax_dict[\"ax1-4\"]\n",
                "ax.plot_surface(X, Y, data.T, cmap=plt.cm.coolwarm, alpha=0.9)\n",
                "# Inverse the time axis to get a better display\n",
                "ax.set_ylim(reversed(ax.get_ylim()))\n",
                "plotter_3d.subfigs[\"estimate hytec\"].suptitle(\"Estimate Hytec\")"
            ]
        },
        {
            "cell_type": "markdown",
            "metadata": {},
            "source": [
                "- Top view"
            ]
        },
        {
            "cell_type": "code",
            "execution_count": null,
            "metadata": {},
            "outputs": [],
            "source": [
                "plotter = ngp.NestedGridPlotter(\n",
                "    fig_params={\"constrained_layout\": True, \"figsize\": (10, 12)},\n",
                "    subplots_mosaic_params={\n",
                "        \"fig0\": dict(\n",
                "            mosaic=[[\"ax1-1\"], [\"ax2-1\"], [\"ax3-1\"], [\"ax4-1\"]],\n",
                "            sharey=True,\n",
                "            sharex=True,\n",
                "        )\n",
                "    },\n",
                ")\n",
                "\n",
                "ngp.multi_imshow(\n",
                "    axes=list(plotter.ax_dict.values()),\n",
                "    fig=plotter.fig,\n",
                "    data={\n",
                "        \"True model demonstrator\": solver_true.model.fwd_conc[:, 0, :].T,\n",
                "        \"A priori (estimate) model demonstartor\": solver_estimate.model.fwd_conc[\n",
                "            :, 0, :\n",
                "        ].T,\n",
                "        \"True model hytec\": fwd_conc_true_hytec[:, 0, 0, :].T,\n",
                "        \"A priori (estimate) model hytec\": fwd_conc_estimate_hytec[:, 0, 0, :].T,\n",
                "    },\n",
                ")\n",
                "\n",
                "fname = \"tracer_concentration_true_vs_estimate_map\"\n",
                "for format in [\"png\", \"pdf\"]:\n",
                "    plotter.savefig((fig_save_path.joinpath(f\"{fname}.{format}\")), format=format)"
            ]
        },
        {
            "cell_type": "markdown",
            "metadata": {},
            "source": [
                "- Consider three observation locations"
            ]
        },
        {
            "cell_type": "code",
            "execution_count": null,
            "metadata": {},
            "outputs": [],
            "source": [
                "observation_locations = [6, 10, 15]"
            ]
        },
        {
            "cell_type": "markdown",
            "metadata": {},
            "source": [
                "- Let's now consider that we have some observation wells. We can plot what the observation well would sample in both cases and see the difference. Let's place three wells at positions `65m`, `105m` and `155m` (at the center of the nodes)."
            ]
        },
        {
            "cell_type": "code",
            "execution_count": null,
            "metadata": {},
            "outputs": [],
            "source": [
                "from typing import List, Tuple\n",
                "\n",
                "\n",
                "def polygon_under_graph(x: np.ndarray, y: np.ndarray) -> List[Tuple[float, float]]:\n",
                "    \"\"\"\n",
                "    Construct the vertex list which defines the polygon filling the space under\n",
                "    the (x, y) line graph. This assumes x is in ascending order.\n",
                "    \"\"\"\n",
                "    return [(x[0], 0.0), *zip(x, y), (x[-1], 0.0)]\n",
                "\n",
                "\n",
                "y_dim = solver_true.model.fwd_conc.shape[2]\n",
                "z_max = solver_true.model.fwd_conc.max()\n",
                "y = np.arange(y_dim)\n",
                "z = np.ones(y_dim) * z_max\n",
                "\n",
                "# verts[i] is a list of (x, y) pairs defining polygon i.\n",
                "verts = [polygon_under_graph(y, z)] * len(observation_locations)\n",
                "\n",
                "poly1 = PolyCollection(verts, facecolors=\"g\", alpha=0.2, zorder=10)\n",
                "poly2 = PolyCollection(verts, facecolors=\"g\", alpha=0.2, zorder=10)\n",
                "poly3 = PolyCollection(verts, facecolors=\"g\", alpha=0.2, zorder=10)\n",
                "poly4 = PolyCollection(verts, facecolors=\"g\", alpha=0.2, zorder=10)\n",
                "\n",
                "plotter_3d.ax_dict[\"ax1-1\"].add_collection3d(poly1, zs=observation_locations, zdir=\"x\")\n",
                "plotter_3d.ax_dict[\"ax1-2\"].add_collection3d(poly2, zs=observation_locations, zdir=\"x\")\n",
                "plotter_3d.ax_dict[\"ax1-3\"].add_collection3d(poly3, zs=observation_locations, zdir=\"x\")\n",
                "plotter_3d.ax_dict[\"ax1-4\"].add_collection3d(poly4, zs=observation_locations, zdir=\"x\")\n",
                "\n",
                "for node_id in observation_locations:\n",
                "    x = [node_id] * 2\n",
                "    y = [solver_true.model.fwd_conc.shape[2]] * 2\n",
                "    z = (0.0, z_max)\n",
                "\n",
                "    plotter_3d.ax_dict[\"ax1-1\"].plot(\n",
                "        x, y, z, label=\"parametric curve\", linewidth=3.0, zorder=10, c=\"g\"\n",
                "    )\n",
                "    plotter_3d.ax_dict[\"ax1-2\"].plot(\n",
                "        x, y, z, label=\"parametric curve\", linewidth=3.0, zorder=10, c=\"g\"\n",
                "    )\n",
                "    plotter_3d.ax_dict[\"ax1-3\"].plot(\n",
                "        x, y, z, label=\"parametric curve\", linewidth=3.0, zorder=10, c=\"g\"\n",
                "    )\n",
                "    plotter_3d.ax_dict[\"ax1-4\"].plot(\n",
                "        x, y, z, label=\"parametric curve\", linewidth=3.0, zorder=10, c=\"g\"\n",
                "    )\n",
                "\n",
                "fname = \"tracer_concentration_true_vs_estimate_3D\"\n",
                "for format in [\"png\", \"pdf\"]:\n",
                "    plotter.savefig((fig_save_path.joinpath(f\"{fname}.{format}\")), format=format)"
            ]
        },
        {
            "cell_type": "code",
            "execution_count": null,
            "metadata": {},
            "outputs": [],
            "source": [
                "plotter = ngp.NestedGridPlotter(\n",
                "    fig_params={\"constrained_layout\": True, \"figsize\": (8, 8)},\n",
                "    subplots_mosaic_params={\n",
                "        \"fig0\": dict(\n",
                "            mosaic=[[\"ax1-1\"], [\"ax2-1\"], [\"ax3-1\"]], sharey=False, sharex=True\n",
                "        )\n",
                "    },\n",
                ")\n",
                "\n",
                "for i, node_id in enumerate(observation_locations):\n",
                "    ax = plotter.get_axis(f\"ax{i + 1}-1\")\n",
                "    x = (node_id + 0.5) * model_true.dx\n",
                "    obs_well_name = f\"obs. well @ node #{node_id} (x={x}m)\"\n",
                "\n",
                "    ax.set_title(obs_well_name)\n",
                "    ax.plot(\n",
                "        (np.arange(nx) + 0.5) * dx,\n",
                "        solver_true.model.fwd_conc[node_id, 0, :],\n",
                "        label=\"Reference demonstrator\",\n",
                "        c=\"b\",\n",
                "    )\n",
                "    ax.plot(\n",
                "        (np.arange(nx) + 0.5) * dx,\n",
                "        solver_estimate.model.fwd_conc[node_id, 0, :],\n",
                "        label=\"A priori demonstrator\",\n",
                "        c=\"r\",\n",
                "    )\n",
                "    ax.plot(fwd_conc_true_hytec[node_id, 0, 0, :], label=\"Reference Hytec\", c=\"g\")\n",
                "    ax.plot(fwd_conc_estimate_hytec[node_id, 0, 0, :], label=\"A priori Hytec\", c=\"k\")\n",
                "\n",
                "plotter.fig.suptitle(\"Tracer at obs wells\", fontweight=\"bold\")\n",
                "plotter.add_fig_legend(ncol=2, bbox_y_shift=-0.02)\n",
                "\n",
                "fname = \"tracer_concentration_true_vs_estimate_at_obs_1D\"\n",
                "for format in [\"png\", \"pdf\"]:\n",
                "    plotter.savefig((fig_save_path.joinpath(f\"{fname}.{format}\")), format=format)"
            ]
        },
        {
            "cell_type": "code",
            "execution_count": null,
            "metadata": {},
            "outputs": [],
            "source": [
                "plotter = ngp.AnimatedPlotter(\n",
                "    fig_params={\"constrained_layout\": True, \"figsize\": (12, 5)},\n",
                "    subplots_mosaic_params={\n",
                "        \"fig0\": dict(mosaic=[[\"ax1-1\", \"ax1-2\"]], sharey=True, sharex=True)\n",
                "    },\n",
                ")\n",
                "\n",
                "# Static plot\n",
                "for ax_name in [\"ax1-1\", \"ax1-2\"]:\n",
                "    plotter.get_axis(ax_name).plot(1.0, c=\"red\", label=\"Initial\")\n",
                "\n",
                "# Animated plot\n",
                "nb_frames = 30\n",
                "\n",
                "plotter.animated_multi_plot(\n",
                "    ax_name=\"ax1-1\",\n",
                "    data={\n",
                "        \"True\": {\"y\": fwd_conc_true_hytec[:, 0, 0, :], \"kwargs\": {\"c\": \"blue\"}},\n",
                "        \"Estimated\": {\n",
                "            \"y\": fwd_conc_estimate_hytec[:, 0, 0, :],\n",
                "            \"kwargs\": {\"c\": \"green\", \"linestyle\": \"--\"},\n",
                "        },\n",
                "    },\n",
                "    nb_frames=nb_frames,\n",
                "    title=\"HYTEC conc\",\n",
                "    xlabel=\"Node #\",\n",
                "    ylabel=\"[mol/l]\",\n",
                ")\n",
                "\n",
                "plotter.animated_multi_plot(\n",
                "    ax_name=\"ax1-2\",\n",
                "    data={\n",
                "        \"True\": {\"y\": solver_true.model.fwd_conc[:, 0, :], \"kwargs\": {\"c\": \"blue\"}},\n",
                "        \"Estimated\": {\n",
                "            \"y\": solver_estimate.model.fwd_conc[:, 0, :],\n",
                "            \"kwargs\": {\"c\": \"green\", \"linestyle\": \"--\"},\n",
                "        },\n",
                "    },\n",
                "    nb_frames=nb_frames,\n",
                "    title=\"Demonstrator conc\",\n",
                "    xlabel=\"Node #\",\n",
                ")\n",
                "\n",
                "\n",
                "# plot the time\n",
                "def get_time() -> Generator[str, None, None]:\n",
                "    ts_btw_frames = int(fwd_conc_estimate_hytec.shape[-1] / nb_frames)\n",
                "    for frame in range(nb_frames):\n",
                "        yield f\"time = {flux_sample_times[ts_btw_frames * frame] / 3600:.3f} h\"\n",
                "\n",
                "\n",
                "for ax_name in [\"ax1-1\", \"ax1-2\"]:\n",
                "    # Add some vertical lines to indicate the well\n",
                "    for well_pos in observation_locations:\n",
                "        # handle = plotter.ax_dict[\"ax1-1\"].axvline(\n",
                "        #     x=well_pos, linestyle=\"--\", line\n",
                "        # )\n",
                "        # plotter.add_extra_legend_item(\"ax1-1\", handle, \"hm_end_time\")\n",
                "        plotter.get_axis(ax_name).plot(\n",
                "            well_pos,\n",
                "            0.0002,\n",
                "            label=\"obs wells\",\n",
                "            marker=\"^\",\n",
                "            markersize=10,\n",
                "            c=\"r\",\n",
                "            linestyle=\"none\",\n",
                "        )\n",
                "\n",
                "    plotter.plot_animated_text(\n",
                "        ax=plotter.get_axis(ax_name),\n",
                "        x=0.83,\n",
                "        y=0.92,\n",
                "        s=list(get_time()),\n",
                "        horizontalalignment=\"center\",\n",
                "        verticalalignment=\"center\",\n",
                "        transform=plotter.get_axis(ax_name).transAxes,\n",
                "        fontsize=14,\n",
                "        fontweight=\"bold\",\n",
                "    )\n",
                "\n",
                "    plotter.add_axis_legend(ax_name)\n",
                "\n",
                "plotter.close()\n",
                "plotter.animate(nb_frames=nb_frames)\n",
                "# Save the animation locally on the computer\n",
                "fname_html = fig_save_path.joinpath(\"true_vs_estimate_conc_animation.html\")\n",
                "writer = HTMLWriter(fps=5, embed_frames=True)\n",
                "writer.frame_format = \"svg\"  # Ensure svg format\n",
                "plotter.animation.save(fname_html, writer=writer)\n",
                "\n",
                "# Extract the svg from the html file (for animation in Latex)\n",
                "ngp.extract_frames_from_embedded_html_animation(fname_html)\n",
                "\n",
                "# Display the animation\n",
                "HTML(fname_html.read_text())"
            ]
        },
        {
            "cell_type": "markdown",
            "metadata": {},
            "source": [
                "## Inversion\n",
                "\n",
                "- Create a function to add some noise to the observations"
            ]
        },
        {
            "cell_type": "code",
            "execution_count": null,
            "metadata": {},
            "outputs": [],
            "source": [
                "noise_std: float = 2e-4  # This is an absolute value\n",
                "rng = np.random.default_rng(2021)\n",
                "\n",
                "\n",
                "def make_noisy(x: NDArrayFloat) -> NDArrayFloat:\n",
                "    \"\"\"Return the input with some added white noise.\n",
                "\n",
                "    Note\n",
                "    ----\n",
                "    The parameters are hardcoded to be consistent in the notebook.\n",
                "    Change the function directly.\n",
                "    \"\"\"\n",
                "    mean_noise = 0.0  # mean\n",
                "    return x + rng.normal(mean_noise, noise_std, x.shape)"
            ]
        },
        {
            "cell_type": "markdown",
            "metadata": {},
            "source": [
                "### Demonstrator\n"
            ]
        },
        {
            "cell_type": "code",
            "execution_count": null,
            "metadata": {},
            "outputs": [],
            "source": [
                "param = PyrtidAdjustableParameter(\n",
                "    name=\"diffusion\", lbounds=2e-5, ubounds=5e-3, preconditioner=dminv.LogTransform()\n",
                ")\n",
                "\n",
                "from typing import Dict  # Just for linting\n",
                "\n",
                "observables: Dict[int, PyrtidObservable] = {}\n",
                "for node_id in observation_locations:\n",
                "    vals = make_noisy(solver_true.model.fwd_conc[node_id, 0, :])\n",
                "    timesteps = np.arange(vals.shape[0])\n",
                "\n",
                "    observables[node_id] = PyrtidObservable(\n",
                "        state_variable=\"tracer\",\n",
                "        location=(slice(node_id, node_id + 1, 1), slice(None)),\n",
                "        timesteps=timesteps,\n",
                "        values=vals,\n",
                "        uncertainties=noise_std,\n",
                "    )\n",
                "\n",
                "# Create an executor\n",
                "executor = ScipyInversionExecutor(\n",
                "    model_estimate,\n",
                "    parameters_to_adjust=[param],\n",
                "    observables=list(observables.values()),\n",
                "    solver_config=ScipySolverConfig(),\n",
                ")\n",
                "\n",
                "# Compute the gradient both by finite difference and adjoint method\n",
                "is_grad_ok = executor.is_gradient_correct(\n",
                "    param,\n",
                "    list(observables.values()),\n",
                ")\n",
                "print(\"Is the gradient correct: \", is_grad_ok)"
            ]
        },
        {
            "cell_type": "markdown",
            "metadata": {},
            "source": [
                "### HYTEC"
            ]
        },
        {
            "cell_type": "code",
            "execution_count": null,
            "metadata": {},
            "outputs": [],
            "source": [
                "# 1) Copy the base simulation\n",
                "simu_inverse = copy.deepcopy(simu_estimate)\n",
                "simu_inverse.update_root_and_name(new_root=\"simu_inverse\", new_name=\"simu_inverse\")\n",
                "\n",
                "# 2) Add the observation wells\n",
                "for count, ix in enumerate(observation_locations):\n",
                "    x = (ix + 0.5) * model_true.dx\n",
                "    name = f\"well_{ix}\"\n",
                "    zone = hymd.Zone(name)\n",
                "    zone.add_sub_item(\n",
                "        hymd.Geometry(\n",
                "            f\"rectangle {x},{model_true.dx/2}, {model_true.dx/2},{model_true.dy/2}\",\n",
                "            units=\"m\",\n",
                "        )\n",
                "    )\n",
                "    zone.add_sub_item(hymd.Geochemistry(base_unit.name))\n",
                "\n",
                "    simu_inverse.model.get_sub_model(hymd.GeometryModel).add_sub_item(zone)\n",
                "    vals = make_noisy(fwd_conc_true_hytec[ix, 0, 0, :])\n",
                "\n",
                "    # Add the observables for the area\n",
                "    obs = Observable(\n",
                "        zone_name=zone.name,\n",
                "        state_variable=species,\n",
                "        units=\"mol/kg\",\n",
                "        timesteps=flux_sample_times,\n",
                "        time_units=\"s\",\n",
                "        obs_type=ObservationType.GRID,\n",
                "        values=vals,\n",
                "        uncertainties=np.ones(vals.size) * noise_std,\n",
                "        node_numbers=np.ones(vals.size) * ix,\n",
                "    )\n",
                "    simu_inverse.register_observable(\n",
                "        zone.name, obs, obs_file_path=f\"observables/{zone.name}_{species}_o.dat\"\n",
                "    )\n",
                "\n",
                "# 3) Update the htc file with some options\n",
                "inv_model = hymd.InverseModel(\n",
                "    hymd.OptimizationStatus(\"enabled\"),\n",
                "    hymd.OptimizationSolverConfig(\n",
                "        \"lbfgsb\", hymd.AdjointState(\"enabled\"), hymd.FdGradientCheck(\"initial\")\n",
                "    ),\n",
                "    hymd.AdjustedParameterConfig(\n",
                "        \"diffusion\",\n",
                "        hymd.Lbound(1e-7, units=\"mol/kg\"),\n",
                "        hymd.Ubound(1e-2, units=\"mol/kg\"),\n",
                "        hymd.Preconditioner(\"logarithmic\"),\n",
                "    ),\n",
                ")\n",
                "\n",
                "simu_inverse.model.add_sub_item(inv_model)\n",
                "\n",
                "# number of samples on the adjoint variables\n",
                "simu_inverse.model.get_sub_model(hymd.SamplingModel).add_sub_item(\n",
                "    hymd.AdjointGridSampling(nt)\n",
                ")\n",
                "\n",
                "# 4)Write the input files\n",
                "simu_inverse.write_input_files()\n",
                "\n",
                "runner.run(simu_inverse)\n",
                "\n",
                "# 7) Read results\n",
                "simu_inverse.read_hytec_results()  # This fails if not results have been written"
            ]
        },
        {
            "cell_type": "markdown",
            "metadata": {},
            "source": [
                "- Extract the adjoint variables computed for the first gradient"
            ]
        },
        {
            "cell_type": "code",
            "execution_count": null,
            "metadata": {},
            "outputs": [],
            "source": [
                "print(f\"columns = {simu_inverse.handlers.results.optim_res.adjoint_var_columns}\")"
            ]
        },
        {
            "cell_type": "code",
            "execution_count": null,
            "metadata": {},
            "outputs": [],
            "source": [
                "adj_conc_hytec = simu_inverse.handlers.results.extract_field_from_adj_var_res(\n",
                "    field=\"adjoint-variable{T} [m]\", nx=nx\n",
                ")\n",
                "adj_conc_hytec.shape"
            ]
        },
        {
            "cell_type": "code",
            "execution_count": null,
            "metadata": {},
            "outputs": [],
            "source": [
                "plotter = ngp.AnimatedPlotter(\n",
                "    fig_params={\"constrained_layout\": True, \"figsize\": (6, 5)},\n",
                ")\n",
                "\n",
                "# Static plot\n",
                "plotter.get_axis(\"ax1-1\").plot([0.0] * nx, c=\"red\", label=\"Initial\")\n",
                "\n",
                "\n",
                "# Animated plot\n",
                "nb_frames = 30\n",
                "\n",
                "plotter.animated_multi_plot(\n",
                "    ax_name=\"ax1-1\",\n",
                "    data={\n",
                "        \"Adj\": {\n",
                "            \"x\": (np.arange(nx) + 0.5) * dx,\n",
                "            \"y\": adj_conc_hytec[:, 0, 0, ::-1],\n",
                "            \"kwargs\": {\"c\": \"blue\"},\n",
                "        },\n",
                "    },\n",
                "    nb_frames=nb_frames,\n",
                "    title=\"Adjoint conentrations\",\n",
                "    xlabel=\"X [m]\",\n",
                "    ylabel=\"[mol/l]\",\n",
                ")\n",
                "\n",
                "\n",
                "# plot the time\n",
                "def get_time() -> Generator[str, None, None]:\n",
                "    ts_btw_frames = int(fwd_conc_estimate_hytec.shape[-1] / nb_frames)\n",
                "    for frame in reversed(range(nb_frames)):\n",
                "        yield f\"time = {flux_sample_times[ts_btw_frames * frame] / 3600:.1f} h\"\n",
                "\n",
                "\n",
                "plotter.plot_animated_text(\n",
                "    ax=plotter.ax_dict[\"ax1-1\"],\n",
                "    x=0.2,\n",
                "    y=0.9,\n",
                "    s=list(get_time()),\n",
                "    horizontalalignment=\"center\",\n",
                "    verticalalignment=\"center\",\n",
                "    transform=plotter.ax_dict[\"ax1-1\"].transAxes,\n",
                "    fontsize=14,\n",
                "    fontweight=\"bold\",\n",
                ")\n",
                "\n",
                "for ax_name in [\"ax1-1\"]:\n",
                "    # Add some vertical lines to indicate the well\n",
                "    for well_pos in observation_locations:\n",
                "        # handle = plotter.ax_dict[\"ax1-1\"].axvline(\n",
                "        #     x=well_pos, linestyle=\"--\", line\n",
                "        # )\n",
                "        # plotter.add_extra_legend_item(\"ax1-1\", handle, \"hm_end_time\")\n",
                "        plotter.ax_dict[ax_name].plot(\n",
                "            (well_pos + 1) * dx - dx / 2,\n",
                "            0.0002,\n",
                "            label=\"obs wells\",\n",
                "            marker=\"^\",\n",
                "            markersize=10,\n",
                "            c=\"r\",\n",
                "            linestyle=\"none\",\n",
                "        )\n",
                "\n",
                "    plotter.add_axis_legend(ax_name)\n",
                "\n",
                "plotter.close()\n",
                "plotter.animate(nb_frames=nb_frames)\n",
                "# Save the animation locally on the computer\n",
                "fname_html = fig_save_path.joinpath(\"adjconc_animation.html\")\n",
                "writer = HTMLWriter(fps=5, embed_frames=True)\n",
                "writer.frame_format = \"svg\"  # Ensure svg format\n",
                "plotter.animation.save(fname_html, writer=writer)\n",
                "\n",
                "# Extract the svg from the html file (for animation in Latex)\n",
                "ngp.extract_frames_from_embedded_html_animation(fname_html)\n",
                "\n",
                "# Display the animation\n",
                "HTML(fname_html.read_text())"
            ]
        },
        {
            "cell_type": "markdown",
            "metadata": {},
            "source": [
                "### Results comparison"
            ]
        },
        {
            "cell_type": "markdown",
            "metadata": {},
            "source": [
                "The adjoint concentrations should be quite the same both in shape and intensity."
            ]
        },
        {
            "cell_type": "code",
            "execution_count": null,
            "metadata": {},
            "outputs": [],
            "source": [
                "plotter = ngp.NestedGridPlotter(\n",
                "    fig_params={\"constrained_layout\": True, \"figsize\": (10, 6)},\n",
                "    subplots_mosaic_params={\n",
                "        \"fig0\": dict(mosaic=[[\"ax1-1\"], [\"ax2-1\"]], sharey=True, sharex=True)\n",
                "    },\n",
                ")\n",
                "\n",
                "ngp.multi_imshow(\n",
                "    axes=list(plotter.ax_dict.values()),\n",
                "    fig=plotter.fig,\n",
                "    data={\n",
                "        \"Adj. var demonstrator\": executor.rt_solver.inverse_model.adj_conc[:, 0, :].T,\n",
                "        \"Adj. var HYTEC\": adj_conc_hytec[:, 0, 0, :].T,\n",
                "    },\n",
                ")\n",
                "\n",
                "fname = \"adjoint_concentrations_dem_vs_hytec_map\"\n",
                "for format in [\"png\", \"pdf\"]:\n",
                "    plotter.savefig((fig_save_path.joinpath(f\"{fname}.{format}\")), format=format)"
            ]
        },
        {
            "cell_type": "markdown",
            "metadata": {},
            "source": [
                "Let's check the adjoint variables at the three observation wells. Note that only the right one has been used as an adjoint source (node_id == 15)."
            ]
        },
        {
            "cell_type": "code",
            "execution_count": null,
            "metadata": {},
            "outputs": [],
            "source": [
                "plotter = ngp.NestedGridPlotter(\n",
                "    fig_params={\"constrained_layout\": True, \"figsize\": (8, 8)},\n",
                "    subplots_mosaic_params={\n",
                "        \"fig0\": dict(\n",
                "            mosaic=[[\"ax1-1\"], [\"ax2-1\"], [\"ax3-1\"]], sharey=False, sharex=True\n",
                "        )\n",
                "    },\n",
                ")\n",
                "\n",
                "for i, node_id in enumerate(observation_locations):\n",
                "    ax = plotter.get_axis(f\"ax{i + 1}-1\")\n",
                "    x = (node_id + 0.5) * model_true.dx\n",
                "    obs_well_name = f\"obs. well @ node #{node_id} (x={x}m)\"\n",
                "\n",
                "    ax.set_title(obs_well_name)\n",
                "    ax.plot(\n",
                "        executor.rt_solver.inverse_model.adj_conc[node_id, 0, :],\n",
                "        label=\"Adj. var. Demonstrator\",\n",
                "        c=\"g\",\n",
                "    )\n",
                "    ax.plot(adj_conc_hytec[node_id, 0, 0, :], label=\"Adj. var. HYTEC\", c=\"r\")\n",
                "\n",
                "plotter.fig.suptitle(\"Tracer adjoint variable\", fontweight=\"bold\")\n",
                "plotter.add_fig_legend(ncol=2, bbox_y_shift=-0.02)\n",
                "\n",
                "fname = \"adjoint_concentrations_dem_vs_hytec_1D\"\n",
                "for format in [\"png\", \"pdf\"]:\n",
                "    plotter.savefig((fig_save_path.joinpath(f\"{fname}.{format}\")), format=format)"
            ]
        },
        {
            "cell_type": "markdown",
            "metadata": {},
            "source": [
                "- Get the gradients by the adjoint method and finite differences"
            ]
        },
        {
            "cell_type": "markdown",
            "metadata": {},
            "source": [
                "Finally, plot the gradients comparison."
            ]
        },
        {
            "cell_type": "code",
            "execution_count": null,
            "metadata": {},
            "outputs": [],
            "source": [
                "# Get the HYTEC  Adj gradient\n",
                "hytec_fd_gradient = simu_inverse.handlers.results.optim_res.fd_gradients[0]\n",
                "hytec_adjoint_gradient = simu_inverse.handlers.results.optim_res.adjoint_gradients[0]"
            ]
        },
        {
            "cell_type": "code",
            "execution_count": null,
            "metadata": {},
            "outputs": [],
            "source": [
                "param.grad_adj_history[0]"
            ]
        },
        {
            "cell_type": "code",
            "execution_count": null,
            "metadata": {},
            "outputs": [],
            "source": [
                "# Here comes the python code\n",
                "plotter = ngp.NestedGridPlotter()\n",
                "ax = plotter.get_axis(\"ax1-1\")\n",
                "ax.plot(param.grad_adj_history[0], label=\"Adj. Demonstrator\", c=\"b\")\n",
                "ax.plot(param.grad_fd_history[0], label=\"FD Demonstrator\", c=\"r\", linestyle=\"--\")\n",
                "ax.plot(hytec_adjoint_gradient[\"value\"], label=\"Adj. HYTEC\", c=\"g\", linestyle=\"-\")\n",
                "ax.plot(hytec_fd_gradient[\"value\"], label=\"FD HYTEC\", c=\"k\", linestyle=\"--\")\n",
                "\n",
                "\n",
                "plotter.fig.suptitle(\"Gradient at first iteration\")\n",
                "plotter.add_fig_legend(ncol=2, bbox_y_shift=-0.1)\n",
                "\n",
                "fname = \"gradient_dem_vs_hytec_adj_vs_df_1d_diffusion\"\n",
                "for format in [\"png\", \"pdf\"]:\n",
                "    plotter.savefig((fig_save_path.joinpath(f\"{fname}.{format}\")), format=format)"
            ]
        },
        {
            "cell_type": "markdown",
            "metadata": {},
            "source": [
                "# Full optimization"
            ]
        },
        {
            "cell_type": "code",
            "execution_count": null,
            "metadata": {},
            "outputs": [],
            "source": [
                "# 1) Copy the base simulation\n",
                "simu_inverse2 = copy.deepcopy(simu_inverse)\n",
                "simu_inverse2.update_root_and_name(\n",
                "    new_root=\"simu_inverse_lbfgsb\", new_name=\"simu_inverse_lbfgsb\"\n",
                ")\n",
                "\n",
                "# 2) Update the htc file with some options\n",
                "inv_model = hymd.InverseModel(\n",
                "    hymd.OptimizationStatus(\"enabled\"),\n",
                "    hymd.OptimizationSolverConfig(\n",
                "        \"lbfgsb\",\n",
                "        hymd.AdjointState(\"enabled\"),\n",
                "        hymd.FdGradientCheck(\"disabled\"),\n",
                "        hymd.MaxNumberFwdModelEval(30),\n",
                "        hymd.MaxNumberIterations(20),\n",
                "        hymd.MaxNumberGradientEval(30),\n",
                "        hymd.ObjFunThreshold(1e-1),\n",
                "        hymd.GradHistorySize(5),\n",
                "    ),\n",
                "    hymd.AdjustedParameterConfig(\n",
                "        \"diffusion\",\n",
                "        hymd.Lbound(1e-7, units=\"mol/kg\"),\n",
                "        hymd.Ubound(1e-2, units=\"mol/kg\"),\n",
                "        hymd.Preconditioner(\"logarithmic\"),\n",
                "    ),\n",
                ")\n",
                "simu_inverse2.model.add_sub_item(inv_model, is_verbose=False)\n",
                "\n",
                "# 4)Write the input files\n",
                "simu_inverse2.write_input_files()\n",
                "runner.run(simu_inverse2)\n",
                "\n",
                "# 5) Read the results\n",
                "simu_inverse2.read_hytec_results()"
            ]
        },
        {
            "cell_type": "code",
            "execution_count": null,
            "metadata": {},
            "outputs": [],
            "source": [
                "# 5) Read the results\n",
                "simu_inverse2.read_hytec_results()"
            ]
        },
        {
            "cell_type": "markdown",
            "metadata": {},
            "source": [
                "- Get the concentrations"
            ]
        },
        {
            "cell_type": "code",
            "execution_count": null,
            "metadata": {},
            "outputs": [],
            "source": [
                "# Get the results on a 3D grid with the last dimension as time step\n",
                "fwd_conc_inversed_hytec = simu_inverse2.handlers.results.extract_field_from_grid_res(\n",
                "    field=\"T [mol/kg]\", nx=nx\n",
                ")"
            ]
        },
        {
            "cell_type": "markdown",
            "metadata": {},
            "source": [
                "- Get the gradients "
            ]
        },
        {
            "cell_type": "code",
            "execution_count": null,
            "metadata": {},
            "outputs": [],
            "source": [
                "print(simu_inverse2.handlers.results.optim_res.adjoint_gradients[0].columns)\n",
                "\n",
                "adjoint_gradients = simu_inverse2.handlers.results.get_adjoint_gradient(\n",
                "    \"diffusion\", nx=nx, ny=ny\n",
                ")\n",
                "fd_gradients = simu_inverse2.handlers.results.get_fd_gradient(\"diffusion\", nx=nx, ny=ny)\n",
                "adjusted_diffusion = simu_inverse2.handlers.results.get_adjusted_parameter_field(\n",
                "    \"diffusion\", nx=nx, ny=ny\n",
                ")\n",
                "obj_funs = simu_inverse2.handlers.results.optim_res.obj_funs"
            ]
        },
        {
            "cell_type": "markdown",
            "metadata": {},
            "source": [
                "- Align gradients and objective functions: Because of the construction in HYTEC, unless I am mistaken, the objective function and fitted parameter vectors match exactly. On the other hand, there is an uncontrolled mismatch with the gradients due to the solver which, depending on its needs, may have to apply several objective functions in a row or several gradients. This function makes sure that the two match for a good rendering of the animations."
            ]
        },
        {
            "cell_type": "code",
            "execution_count": null,
            "metadata": {},
            "outputs": [],
            "source": [
                "grad_index = 0\n",
                "grad_obj_funs = (\n",
                "    simu_inverse2.handlers.results.optim_res.obj_funs_matching_adjoint_gradients\n",
                ")\n",
                "\n",
                "# Example: [3, 4, 4, 5, 7, 8, 8, 9]\n",
                "\n",
                "aligned_adjoint_gradients = np.empty(\n",
                "    (*adjoint_gradients[:, :, :, 0].shape, obj_funs.size)\n",
                ")\n",
                "aligned_adjoint_gradients.fill(np.nan)\n",
                "\n",
                "previous_index: int = -1\n",
                "for i, index in enumerate(grad_obj_funs):\n",
                "    if index == previous_index:\n",
                "        continue\n",
                "    if index > obj_funs.size:\n",
                "        continue\n",
                "    previous_index = index\n",
                "    aligned_adjoint_gradients[:, :, :, index - 1] = adjoint_gradients[:, :, :, i]\n",
                "\n",
                "# Fill the first missing gradients\n",
                "# Gradients 1 and 2 in the example\n",
                "for i2 in range(grad_obj_funs[0] - 1):\n",
                "    aligned_adjoint_gradients[:, :, :, i2] = aligned_adjoint_gradients[\n",
                "        :, :, :, grad_obj_funs[0]\n",
                "    ]"
            ]
        },
        {
            "cell_type": "markdown",
            "metadata": {},
            "source": [
                "- Get the observations and the predictions vector to plot it against each others"
            ]
        },
        {
            "cell_type": "code",
            "execution_count": null,
            "metadata": {},
            "outputs": [],
            "source": [
                "obs_vector = simu_inverse2.get_observation_vector()\n",
                "pred_vector = simu_inverse2.get_results_matching_obs_vector(\n",
                "    simu_inverse2.get_observables()\n",
                ")"
            ]
        },
        {
            "cell_type": "markdown",
            "metadata": {},
            "source": [
                "- Plot the main results"
            ]
        },
        {
            "cell_type": "code",
            "execution_count": null,
            "metadata": {},
            "outputs": [],
            "source": [
                "plotter = ngp.AnimatedPlotter(\n",
                "    fig_params={\"figsize\": (10.0, 8.0)}, subfigs_params={\"nrows\": 2, \"ncols\": 2}\n",
                ")\n",
                "\n",
                "# 1 frame per solver iteration\n",
                "nb_frames: int = obj_funs.shape[0]\n",
                "\n",
                "# 1) Gradient evolution\n",
                "plotter.get_axis(\"ax1-1\").plot(\n",
                "    aligned_adjoint_gradients[:, 0, 0, 0], label=\"Initial\", c=\"b\"\n",
                ")\n",
                "plotter.get_axis(\"ax1-1\").set_title(\"Gradient\", fontweight=\"bold\")\n",
                "# xlabel=\"Node #\"\n",
                "\n",
                "plotter.animated_multi_plot(\n",
                "    ax_name=\"ax1-1\",\n",
                "    data={\n",
                "        \"ADJ\": {\"y\": aligned_adjoint_gradients[:, 0, 0, :], \"kwargs\": {\"c\": \"g\"}},\n",
                "    },\n",
                "    nb_frames=nb_frames,\n",
                ")\n",
                "\n",
                "plotter.ax_dict[\"ax1-1\"].legend()\n",
                "\n",
                "\n",
                "# 2) Parameter evolution\n",
                "plotter.get_axis(\"ax1-2\").plot(model_true.D, c=\"b\", label=\"Reference\")\n",
                "plotter.get_axis(\"ax1-2\").plot(\n",
                "    adjusted_diffusion[:, 0, 0, 0], c=\"orange\", label=\"Initial\"\n",
                ")\n",
                "plotter.animated_multi_plot(\n",
                "    ax_name=\"ax1-2\",\n",
                "    data={\n",
                "        \"Inverted\": {\n",
                "            \"y\": adjusted_diffusion[:, 0, 0, :],\n",
                "            \"kwargs\": {\"c\": \"r\", \"linestyle\": \"--\"},\n",
                "        },\n",
                "    },\n",
                "    nb_frames=nb_frames,\n",
                ")\n",
                "plotter.get_axis(\"ax1-2\").set_title(\"Diffusivity field\", fontweight=\"bold\")\n",
                "plotter.get_axis(\"ax1-2\").set_xlabel(\"Node #\")\n",
                "plotter.get_axis(\"ax1-2\").set_ylabel(\"[m2/s]\")\n",
                "plotter.ax_dict[\"ax1-2\"].legend()\n",
                "plotter.ax_dict[\"ax1-2\"].set_yscale(\"log\")\n",
                "\n",
                "# 3) Objective function\n",
                "vals = obj_funs\n",
                "obj_fun_vals = np.full((len(vals), nb_frames), fill_value=np.nan)\n",
                "for i in range(len(vals)):\n",
                "    obj_fun_vals[: i + 1, i] = vals[: i + 1]\n",
                "\n",
                "plotter.animated_multi_plot(\n",
                "    ax_name=\"ax2-1\",\n",
                "    data={\n",
                "        \"Obj fun\": {\"y\": obj_fun_vals, \"kwargs\": {\"c\": \"r\", \"linestyle\": \"--\"}},\n",
                "    },\n",
                "    nb_frames=nb_frames,\n",
                "    title=\"Objective function\",\n",
                "    xlabel=\"Iteration #\",\n",
                ")\n",
                "plotter.ax_dict[\"ax2-1\"].set_yscale(\"log\")\n",
                "\n",
                "# 4) Observation vs predicted values\n",
                "plot_observed_vs_simulated(\n",
                "    plotter.ax_dict[\"ax2-2\"],\n",
                "    obs_vector=simu_inverse2.get_observation_vector() * 1000,\n",
                "    pred_vector=simu_inverse2.get_results_matching_obs_vector(\n",
                "        simu_inverse2.get_observables()\n",
                "    )\n",
                "    * 1000,\n",
                "    pred_vector_initial=simu_estimate.get_results_matching_obs_vector(\n",
                "        simu_inverse2.get_observables()\n",
                "    )\n",
                "    * 1000,\n",
                "    units=\"$mmol.l^{-1}$\",\n",
                ")\n",
                "\n",
                "plotter.close()\n",
                "plotter.animate(nb_frames=nb_frames)\n",
                "# Save the animation locally on the computer\n",
                "fname_html = fig_save_path.joinpath(\"m_j_g_animation.html\")\n",
                "writer = HTMLWriter(fps=2, embed_frames=True)\n",
                "writer.frame_format = \"svg\"  # Ensure svg format\n",
                "plotter.animation.save(fname_html, writer=writer)\n",
                "\n",
                "# Extract the svg from the html file (for animation in Latex)\n",
                "ngp.extract_frames_from_embedded_html_animation(fname_html)\n",
                "\n",
                "# Display the animation\n",
                "HTML(fname_html.read_text())"
            ]
        },
        {
            "cell_type": "markdown",
            "metadata": {},
            "source": [
                "- Plot the concentrations"
            ]
        },
        {
            "cell_type": "code",
            "execution_count": null,
            "metadata": {},
            "outputs": [],
            "source": [
                "plotter = ngp.NestedGridPlotter(\n",
                "    fig_params={\"constrained_layout\": True, \"figsize\": (8, 8)},\n",
                "    subplots_mosaic_params={\n",
                "        \"fig0\": dict(\n",
                "            mosaic=[[\"ax1-1\"], [\"ax2-1\"], [\"ax3-1\"]], sharey=False, sharex=True\n",
                "        )\n",
                "    },\n",
                ")\n",
                "\n",
                "for i, node_id in enumerate(observation_locations):\n",
                "    ax = plotter.get_axis(f\"ax{i + 1}-1\")\n",
                "    x = (node_id + 0.5) * model_true.dx\n",
                "    obs_well_name = f\"obs. well @ node #{node_id} (x={x}m)\"\n",
                "\n",
                "    ax.set_title(obs_well_name)\n",
                "    ax.plot(\n",
                "        make_noisy(fwd_conc_true_hytec[node_id, 0, 0, :]),\n",
                "        label=\"Reference HYTEC (noisy)\",\n",
                "        c=\"g\",\n",
                "        linestyle=\"none\",\n",
                "        marker=\".\",\n",
                "        alpha=0.5,\n",
                "    )\n",
                "    ax.plot(fwd_conc_estimate_hytec[node_id, 0, 0, :], label=\"A priori HYTEC\", c=\"r\")\n",
                "    ax.plot(\n",
                "        fwd_conc_inversed_hytec[node_id, 0, 0, :], label=\"Post inversion HYTEC\", c=\"b\"\n",
                "    )\n",
                "\n",
                "plotter.fig.suptitle(\"Tracer at obs wells\", fontweight=\"bold\")\n",
                "plotter.add_fig_legend(ncol=2, bbox_y_shift=-0.02)\n",
                "\n",
                "fname = \"tracer_concentrations_after_inversion\"\n",
                "for format in [\"png\", \"pdf\"]:\n",
                "    plotter.savefig((fig_save_path.joinpath(f\"{fname}.{format}\")), format=format)"
            ]
        }
    ],
    "metadata": {
        "interpreter": {
            "hash": "dcef77e0dabfbf37e54a3b802eb724b14f0a86b07a600ec9a0955ad16bb29384"
        },
        "kernelspec": {
            "display_name": "Python 3 (ipykernel)",
            "language": "python",
            "name": "python3"
        },
        "language_info": {
            "codemirror_mode": {
                "name": "ipython",
                "version": 3
            },
            "file_extension": ".py",
            "mimetype": "text/x-python",
            "name": "python",
            "nbconvert_exporter": "python",
            "pygments_lexer": "ipython3",
            "version": "3.11.5"
        }
    },
    "nbformat": 4,
    "nbformat_minor": 2
}
