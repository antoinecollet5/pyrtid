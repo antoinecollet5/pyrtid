{
 "cells": [
  {
   "cell_type": "markdown",
   "metadata": {},
   "source": [
    "# Inversion example of the diffusion"
   ]
  },
  {
   "cell_type": "markdown",
   "metadata": {},
   "source": [
    "- Import required packages"
   ]
  },
  {
   "cell_type": "code",
   "execution_count": 1,
   "metadata": {},
   "outputs": [],
   "source": [
    "import os\n",
    "import logging\n",
    "import copy\n",
    "from pathlib import Path\n",
    "from typing import Generator\n",
    "import matplotlib.pyplot as plt\n",
    "from matplotlib.collections import PolyCollection\n",
    "from matplotlib.animation import HTMLWriter\n",
    "from IPython.display import HTML\n",
    "import nested_grid_plotter as ngp\n",
    "import pyrtid\n",
    "import pyrtid.forward as dmfwd\n",
    "import pyrtid.inverse as dminv\n",
    "from pyrtid.inverse.regularization import (\n",
    "    TikhonovRegularizator,\n",
    "    TVRegularizator,\n",
    ")\n",
    "from pyrtid.utils import GaussianFilter, NDArrayFloat\n",
    "import numpy as np"
   ]
  },
  {
   "cell_type": "markdown",
   "metadata": {},
   "source": [
    "- Check package/software versions"
   ]
  },
  {
   "cell_type": "code",
   "execution_count": 2,
   "metadata": {},
   "outputs": [
    {
     "name": "stdout",
     "output_type": "stream",
     "text": [
      "pyrtid.__version__ = 0.1.0\n",
      "nested_grid_plotter.__version__ = 0.1.0\n"
     ]
    }
   ],
   "source": [
    "pyrtid.utils.show_versions()"
   ]
  },
  {
   "cell_type": "markdown",
   "metadata": {},
   "source": [
    "- Create a directory to store the exported figures"
   ]
  },
  {
   "cell_type": "code",
   "execution_count": 4,
   "metadata": {},
   "outputs": [],
   "source": [
    "ipynb_path = os.path.dirname(os.path.realpath(\"__file__\"))\n",
    "fig_save_path = Path(ipynb_path, \"exported_figures\")\n",
    "fig_save_path.mkdir(parents=True, exist_ok=True)  # make sure that the directory exists"
   ]
  },
  {
   "cell_type": "markdown",
   "metadata": {},
   "source": [
    "- Set-up logging level"
   ]
  },
  {
   "cell_type": "code",
   "execution_count": 5,
   "metadata": {},
   "outputs": [
    {
     "name": "stderr",
     "output_type": "stream",
     "text": [
      "INFO:root:this is a test\n"
     ]
    }
   ],
   "source": [
    "logger = logging.getLogger()\n",
    "logger.setLevel(logging.INFO)\n",
    "logging.info(\"this is a test\")"
   ]
  },
  {
   "cell_type": "markdown",
   "metadata": {},
   "source": [
    "- Define some configurations for the plots"
   ]
  },
  {
   "cell_type": "code",
   "execution_count": 6,
   "metadata": {},
   "outputs": [],
   "source": [
    "# Some configs for the plots\n",
    "new_rc_params = {\n",
    "    \"font.family\": \"sans-serif\",\n",
    "    \"font.sans-serif\": [\"Helvetica\", \"DejaVu Sans\"],\n",
    "    \"font.size\": 16,\n",
    "    \"text.usetex\": False,\n",
    "    \"savefig.format\": \"svg\",\n",
    "    \"svg.fonttype\": \"none\",  # to store text as text, not as path\n",
    "    \"savefig.facecolor\": \"w\",\n",
    "    \"savefig.edgecolor\": \"k\",\n",
    "    \"savefig.dpi\": 300,\n",
    "    \"figure.constrained_layout.use\": True,\n",
    "    \"figure.facecolor\": \"w\",\n",
    "    \"axes.facecolor\": \"w\",\n",
    "}\n",
    "csfont = {\"fontname\": \"Comic Sans MS\"}\n",
    "hfont = {\"fontname\": \"Helvetica\"}\n",
    "plt.plot()\n",
    "plt.close()  # required for the plot to update\n",
    "plt.rcParams.update(new_rc_params)"
   ]
  },
  {
   "cell_type": "markdown",
   "metadata": {},
   "source": [
    "## Forward problem"
   ]
  },
  {
   "cell_type": "markdown",
   "metadata": {},
   "source": [
    "Let's define a very simple pure diffusion case in 1D."
   ]
  },
  {
   "cell_type": "code",
   "execution_count": 7,
   "metadata": {},
   "outputs": [],
   "source": [
    "# time_params = dmfwd.TimeParameters(nt=1000, dt_init=4000.0)\n",
    "time_params = dmfwd.TimeParameters(\n",
    "    duration=duration_in_s, dt_init=dt_init, dt_max=dt_max, dt_min=dt_min\n",
    ")\n",
    "geometry = dmfwd.Geometry(nx=21, ny=1, dx=10.0, dy=10.0)\n",
    "fl_params = dmfwd.FlowParameters(permeability=1e-10)\n",
    "tr_params = dmfwd.TransportParameters(diffusion=1e-4, porosity=0.23)\n",
    "gch_params = dmfwd.GeochemicalParameters(conc=0.0, grade=0.0)\n",
    "\n",
    "\n",
    "# We define a function to easily generate a model.\n",
    "def create_base_model() -> dmfwd.ForwardModel:\n",
    "    return dmfwd.ForwardModel(geometry, time_params, fl_params, tr_params, gch_params)"
   ]
  },
  {
   "cell_type": "markdown",
   "metadata": {},
   "source": [
    "- x_coordinates array for the plots"
   ]
  },
  {
   "cell_type": "code",
   "execution_count": 8,
   "metadata": {},
   "outputs": [],
   "source": [
    "x_coordinates = (np.arange(geometry.nx) + 0.5) * geometry.dx"
   ]
  },
  {
   "cell_type": "markdown",
   "metadata": {},
   "source": [
    "- Time for the plots"
   ]
  },
  {
   "cell_type": "code",
   "execution_count": 9,
   "metadata": {},
   "outputs": [],
   "source": [
    "times_in_days = np.arange(time_params.nt) * time_params.dt / 3600 / 24  # in days"
   ]
  },
  {
   "cell_type": "markdown",
   "metadata": {},
   "source": [
    "- Create two identical model"
   ]
  },
  {
   "cell_type": "code",
   "execution_count": 10,
   "metadata": {},
   "outputs": [],
   "source": [
    "model_reference = create_base_model()\n",
    "model_estimate = create_base_model()"
   ]
  },
  {
   "cell_type": "markdown",
   "metadata": {},
   "source": [
    "- One with a constant diffusion (initial guess), the other with a bumped coefficient (reference)"
   ]
  },
  {
   "cell_type": "code",
   "execution_count": 11,
   "metadata": {},
   "outputs": [],
   "source": [
    "model_reference.tr_model.diffusion[6:12, 0] = 1e-3\n",
    "model_estimate.tr_model.diffusion[:, :] = 1.5e-4"
   ]
  },
  {
   "cell_type": "markdown",
   "metadata": {},
   "source": [
    "- The initial aqueous concentration of the tracer is the same -> a bump"
   ]
  },
  {
   "cell_type": "code",
   "execution_count": 12,
   "metadata": {},
   "outputs": [],
   "source": [
    "model_reference.tr_model.conc[10:14, 0] = 0.01  # [mol/kg]\n",
    "model_estimate.tr_model.conc[10:14, 0] = 0.01  # [mol/kg]"
   ]
  },
  {
   "cell_type": "markdown",
   "metadata": {},
   "source": [
    "- Plot it"
   ]
  },
  {
   "cell_type": "code",
   "execution_count": 13,
   "metadata": {},
   "outputs": [
    {
     "data": {
      "image/png": "[encoded data removed]",
      "text/plain": [
       "<Figure size 1200x500 with 2 Axes>"
      ]
     },
     "metadata": {},
     "output_type": "display_data"
    }
   ],
   "source": [
    "plotter = ngp.NestedGridPlotter(\n",
    "    fig_params={\"figsize\": (12, 5)}, subfigs_params={\"ncols\": 2}\n",
    ")\n",
    "ax1 = plotter.ax_dict[\"ax1-1\"]\n",
    "ax1.plot(\n",
    "    x_coordinates, model_reference.tr_model.diffusion[:, 0], label=\"Reference\", c=\"b\"\n",
    ")\n",
    "ax1.plot(\n",
    "    x_coordinates, model_estimate.tr_model.diffusion[:, 0], label=\"Initial guess\", c=\"r\"\n",
    ")\n",
    "ax1.set_yscale(\"log\")\n",
    "ax1.legend(ncol=2, loc=\"center\", bbox_to_anchor=(0.5, -0.25))\n",
    "ax1.set_xlabel(\"X [m]\", fontweight=\"bold\")\n",
    "ax1.set_ylabel(\"Diffusion (m/s)\", fontweight=\"bold\")\n",
    "\n",
    "ax2 = plotter.ax_dict[\"ax1-2\"]\n",
    "ax2.plot(\n",
    "    x_coordinates,\n",
    "    model_reference.tr_model.conc[:, 0, 0],\n",
    "    label=\"Initial tracer concentration\",\n",
    "    color=\"red\",\n",
    ")\n",
    "ax2.fill_between(\n",
    "    x_coordinates,\n",
    "    0.0,\n",
    "    model_reference.tr_model.conc[:, 0, 0],\n",
    "    alpha=0.2,\n",
    "    color=\"red\",\n",
    ")\n",
    "ax2.set_xlabel(\"X [m]\", fontweight=\"bold\")\n",
    "ax2.set_ylabel(\"Initial Conc (mol/kg)\", fontweight=\"bold\")\n",
    "ax2.legend(loc=\"center\", bbox_to_anchor=(0.5, -0.25))\n",
    "plotter.fig.patch.set_facecolor(\"w\")"
   ]
  },
  {
   "cell_type": "markdown",
   "metadata": {},
   "source": [
    "We can then run these too models and compare the results"
   ]
  },
  {
   "cell_type": "code",
   "execution_count": 14,
   "metadata": {},
   "outputs": [
    {
     "ename": "ValueError",
     "evalue": "dimension mismatch",
     "output_type": "error",
     "traceback": [
      "\u001b[0;31m---------------------------------------------------------------------------\u001b[0m",
      "\u001b[0;31mValueError\u001b[0m                                Traceback (most recent call last)",
      "\u001b[0;32m/tmp/ipykernel_30756/3451271694.py\u001b[0m in \u001b[0;36m<module>\u001b[0;34m\u001b[0m\n\u001b[1;32m      1\u001b[0m \u001b[0msolver_reference\u001b[0m \u001b[0;34m=\u001b[0m \u001b[0mfwd\u001b[0m\u001b[0;34m.\u001b[0m\u001b[0mForwardSolver\u001b[0m\u001b[0;34m(\u001b[0m\u001b[0mmodel_reference\u001b[0m\u001b[0;34m)\u001b[0m\u001b[0;34m\u001b[0m\u001b[0;34m\u001b[0m\u001b[0m\n\u001b[0;32m----> 2\u001b[0;31m \u001b[0msolver_reference\u001b[0m\u001b[0;34m.\u001b[0m\u001b[0msolve\u001b[0m\u001b[0;34m(\u001b[0m\u001b[0;34m)\u001b[0m\u001b[0;34m\u001b[0m\u001b[0;34m\u001b[0m\u001b[0m\n\u001b[0m\u001b[1;32m      3\u001b[0m \u001b[0;34m\u001b[0m\u001b[0m\n\u001b[1;32m      4\u001b[0m \u001b[0msolver_estimate\u001b[0m \u001b[0;34m=\u001b[0m \u001b[0mfwd\u001b[0m\u001b[0;34m.\u001b[0m\u001b[0mForwardSolver\u001b[0m\u001b[0;34m(\u001b[0m\u001b[0mmodel_estimate\u001b[0m\u001b[0;34m)\u001b[0m\u001b[0;34m\u001b[0m\u001b[0;34m\u001b[0m\u001b[0m\n\u001b[1;32m      5\u001b[0m \u001b[0msolver_estimate\u001b[0m\u001b[0;34m.\u001b[0m\u001b[0msolve\u001b[0m\u001b[0;34m(\u001b[0m\u001b[0;34m)\u001b[0m\u001b[0;34m\u001b[0m\u001b[0;34m\u001b[0m\u001b[0m\n",
      "\u001b[0;32m~/workspace/pyrtid/pyrtid/forward/solver.py\u001b[0m in \u001b[0;36msolve\u001b[0;34m(self)\u001b[0m\n\u001b[1;32m     81\u001b[0m         \u001b[0;31m# Sequential iterative approach\u001b[0m\u001b[0;34m\u001b[0m\u001b[0;34m\u001b[0m\u001b[0m\n\u001b[1;32m     82\u001b[0m         \u001b[0;32mfor\u001b[0m \u001b[0mtime_index\u001b[0m \u001b[0;32min\u001b[0m \u001b[0mrange\u001b[0m\u001b[0;34m(\u001b[0m\u001b[0mself\u001b[0m\u001b[0;34m.\u001b[0m\u001b[0mmodel\u001b[0m\u001b[0;34m.\u001b[0m\u001b[0mtime_params\u001b[0m\u001b[0;34m.\u001b[0m\u001b[0mnt\u001b[0m \u001b[0;34m-\u001b[0m \u001b[0;36m1\u001b[0m\u001b[0;34m)\u001b[0m\u001b[0;34m:\u001b[0m\u001b[0;34m\u001b[0m\u001b[0;34m\u001b[0m\u001b[0m\n\u001b[0;32m---> 83\u001b[0;31m             _solve_flow(\n\u001b[0m\u001b[1;32m     84\u001b[0m                 \u001b[0mself\u001b[0m\u001b[0;34m.\u001b[0m\u001b[0mmodel\u001b[0m\u001b[0;34m.\u001b[0m\u001b[0mgeometry\u001b[0m\u001b[0;34m,\u001b[0m\u001b[0;34m\u001b[0m\u001b[0;34m\u001b[0m\u001b[0m\n\u001b[1;32m     85\u001b[0m                 \u001b[0mself\u001b[0m\u001b[0;34m.\u001b[0m\u001b[0mmodel\u001b[0m\u001b[0;34m.\u001b[0m\u001b[0mfl_model\u001b[0m\u001b[0;34m,\u001b[0m\u001b[0;34m\u001b[0m\u001b[0;34m\u001b[0m\u001b[0m\n",
      "\u001b[0;32m~/workspace/pyrtid/pyrtid/forward/solver.py\u001b[0m in \u001b[0;36m_solve_flow_transient_semi_implicit\u001b[0;34m(geometry, fl_model, time_params, time_index)\u001b[0m\n\u001b[1;32m    333\u001b[0m     \"\"\"\n\u001b[1;32m    334\u001b[0m     \u001b[0;31m# Multiply prev matrix by prev vector\u001b[0m\u001b[0;34m\u001b[0m\u001b[0;34m\u001b[0m\u001b[0m\n\u001b[0;32m--> 335\u001b[0;31m     \u001b[0mtmp\u001b[0m \u001b[0;34m=\u001b[0m \u001b[0mfl_model\u001b[0m\u001b[0;34m.\u001b[0m\u001b[0mq_prev\u001b[0m\u001b[0;34m.\u001b[0m\u001b[0mdot\u001b[0m\u001b[0;34m(\u001b[0m\u001b[0mfl_model\u001b[0m\u001b[0;34m.\u001b[0m\u001b[0mhead\u001b[0m\u001b[0;34m[\u001b[0m\u001b[0;34m:\u001b[0m\u001b[0;34m,\u001b[0m \u001b[0;34m:\u001b[0m\u001b[0;34m,\u001b[0m \u001b[0mtime_index\u001b[0m\u001b[0;34m]\u001b[0m\u001b[0;34m.\u001b[0m\u001b[0mflatten\u001b[0m\u001b[0;34m(\u001b[0m\u001b[0morder\u001b[0m\u001b[0;34m=\u001b[0m\u001b[0;34m\"F\"\u001b[0m\u001b[0;34m)\u001b[0m\u001b[0;34m)\u001b[0m\u001b[0;34m\u001b[0m\u001b[0;34m\u001b[0m\u001b[0m\n\u001b[0m\u001b[1;32m    336\u001b[0m \u001b[0;34m\u001b[0m\u001b[0m\n\u001b[1;32m    337\u001b[0m     \u001b[0;31m# Add the source terms\u001b[0m\u001b[0;34m\u001b[0m\u001b[0;34m\u001b[0m\u001b[0m\n",
      "\u001b[0;32m~/anaconda3/lib/python3.9/site-packages/scipy/sparse/base.py\u001b[0m in \u001b[0;36mdot\u001b[0;34m(self, other)\u001b[0m\n\u001b[1;32m    357\u001b[0m \u001b[0;34m\u001b[0m\u001b[0m\n\u001b[1;32m    358\u001b[0m         \"\"\"\n\u001b[0;32m--> 359\u001b[0;31m         \u001b[0;32mreturn\u001b[0m \u001b[0mself\u001b[0m \u001b[0;34m*\u001b[0m \u001b[0mother\u001b[0m\u001b[0;34m\u001b[0m\u001b[0;34m\u001b[0m\u001b[0m\n\u001b[0m\u001b[1;32m    360\u001b[0m \u001b[0;34m\u001b[0m\u001b[0m\n\u001b[1;32m    361\u001b[0m     \u001b[0;32mdef\u001b[0m \u001b[0mpower\u001b[0m\u001b[0;34m(\u001b[0m\u001b[0mself\u001b[0m\u001b[0;34m,\u001b[0m \u001b[0mn\u001b[0m\u001b[0;34m,\u001b[0m \u001b[0mdtype\u001b[0m\u001b[0;34m=\u001b[0m\u001b[0;32mNone\u001b[0m\u001b[0;34m)\u001b[0m\u001b[0;34m:\u001b[0m\u001b[0;34m\u001b[0m\u001b[0;34m\u001b[0m\u001b[0m\n",
      "\u001b[0;32m~/anaconda3/lib/python3.9/site-packages/scipy/sparse/base.py\u001b[0m in \u001b[0;36m__mul__\u001b[0;34m(self, other)\u001b[0m\n\u001b[1;32m    496\u001b[0m             \u001b[0;31m# dense row or column vector\u001b[0m\u001b[0;34m\u001b[0m\u001b[0;34m\u001b[0m\u001b[0m\n\u001b[1;32m    497\u001b[0m             \u001b[0;32mif\u001b[0m \u001b[0mother\u001b[0m\u001b[0;34m.\u001b[0m\u001b[0mshape\u001b[0m \u001b[0;34m!=\u001b[0m \u001b[0;34m(\u001b[0m\u001b[0mN\u001b[0m\u001b[0;34m,\u001b[0m\u001b[0;34m)\u001b[0m \u001b[0;32mand\u001b[0m \u001b[0mother\u001b[0m\u001b[0;34m.\u001b[0m\u001b[0mshape\u001b[0m \u001b[0;34m!=\u001b[0m \u001b[0;34m(\u001b[0m\u001b[0mN\u001b[0m\u001b[0;34m,\u001b[0m \u001b[0;36m1\u001b[0m\u001b[0;34m)\u001b[0m\u001b[0;34m:\u001b[0m\u001b[0;34m\u001b[0m\u001b[0;34m\u001b[0m\u001b[0m\n\u001b[0;32m--> 498\u001b[0;31m                 \u001b[0;32mraise\u001b[0m \u001b[0mValueError\u001b[0m\u001b[0;34m(\u001b[0m\u001b[0;34m'dimension mismatch'\u001b[0m\u001b[0;34m)\u001b[0m\u001b[0;34m\u001b[0m\u001b[0;34m\u001b[0m\u001b[0m\n\u001b[0m\u001b[1;32m    499\u001b[0m \u001b[0;34m\u001b[0m\u001b[0m\n\u001b[1;32m    500\u001b[0m             \u001b[0mresult\u001b[0m \u001b[0;34m=\u001b[0m \u001b[0mself\u001b[0m\u001b[0;34m.\u001b[0m\u001b[0m_mul_vector\u001b[0m\u001b[0;34m(\u001b[0m\u001b[0mnp\u001b[0m\u001b[0;34m.\u001b[0m\u001b[0mravel\u001b[0m\u001b[0;34m(\u001b[0m\u001b[0mother\u001b[0m\u001b[0;34m)\u001b[0m\u001b[0;34m)\u001b[0m\u001b[0;34m\u001b[0m\u001b[0;34m\u001b[0m\u001b[0m\n",
      "\u001b[0;31mValueError\u001b[0m: dimension mismatch"
     ]
    }
   ],
   "source": [
    "solver_reference = dmfwd.ForwardSolver(model_reference)\n",
    "solver_reference.solve()\n",
    "\n",
    "solver_estimate = dmfwd.ForwardSolver(model_estimate)\n",
    "solver_estimate.solve()"
   ]
  },
  {
   "cell_type": "markdown",
   "metadata": {},
   "source": [
    "We can disply the results in different ways."
   ]
  },
  {
   "cell_type": "code",
   "execution_count": null,
   "metadata": {},
   "outputs": [],
   "source": [
    "# Let's create a 3D plotter to visualize the results\n",
    "plotter_3d = ngp.NestedGridPlotter(\n",
    "    fig_params={\"constrained_layout\": True, \"figsize\": (9, 4.5)},\n",
    "    subfigs_params={\"ncols\": 2},\n",
    "    subplots_mosaic_params={\n",
    "        \"true\": {\"mosaic\": [[\"ax11\"]], \"subplot_kw\": {\"projection\": \"3d\"}},\n",
    "        \"estimate\": {\"mosaic\": [[\"ax12\"]], \"subplot_kw\": {\"projection\": \"3d\"}},\n",
    "    },\n",
    ")\n",
    "plotter_3d.fig.patch.set_facecolor(\"w\")\n",
    "\n",
    "data = solver_reference.model.tr_model.conc[:, 0, :]\n",
    "X, Y = np.meshgrid(x_coordinates, np.arange(data.shape[1]))\n",
    "ax = plotter_3d.ax_dict[\"ax11\"]\n",
    "ax.plot_surface(X, Y, data.T, cmap=plt.cm.coolwarm)\n",
    "# Inverse the time axis to get a better dislay\n",
    "ax.set_ylim(reversed(ax.get_ylim()))\n",
    "plotter_3d.subfigs[\"true\"].suptitle(\"True\")\n",
    "ax.set_xlabel(\"X [m]\", fontweight=\"bold\")\n",
    "ax.set_ylabel(\"Timestep #\", fontweight=\"bold\")\n",
    "ax.set_zlabel(\"Tracer concentration [molal]\")\n",
    "\n",
    "data = solver_estimate.model.tr_model.conc[:, 0, :]\n",
    "ax = plotter_3d.ax_dict[\"ax12\"]\n",
    "ax.plot_surface(X, Y, data.T, cmap=plt.cm.coolwarm, alpha=0.9)\n",
    "# Inverse the time axis to get a better dislay\n",
    "ax.set_xlabel(\"X [m]\", fontweight=\"bold\")\n",
    "ax.set_ylabel(\"Timestep #\", fontweight=\"bold\")\n",
    "ax.set_ylim(reversed(ax.get_ylim()))\n",
    "plotter_3d.subfigs[\"estimate\"].suptitle(\"Estimate\")"
   ]
  },
  {
   "cell_type": "markdown",
   "metadata": {},
   "source": [
    "- Top view"
   ]
  },
  {
   "cell_type": "code",
   "execution_count": null,
   "metadata": {},
   "outputs": [],
   "source": [
    "plotter = ngp.NestedGridPlotter(\n",
    "    fig_params={\"constrained_layout\": True, \"figsize\": (10, 6)},\n",
    "    subplots_mosaic_params={\n",
    "        \"fig0\": dict(\n",
    "            mosaic=[[\"ax1-1\"], [\"ax2-1\"]],\n",
    "            sharey=True,\n",
    "            sharex=True,\n",
    "        )\n",
    "    },\n",
    ")\n",
    "\n",
    "ngp.multi_imshow(\n",
    "    axes=list(plotter.ax_dict.values()),\n",
    "    fig=plotter.fig,\n",
    "    data={\n",
    "        \"True model demonstrator\": solver_reference.model.tr_model.conc[:, 0, :].T,\n",
    "        \"A priori (estimate) model demonstartor\": solver_estimate.model.tr_model.conc[\n",
    "            :, 0, :\n",
    "        ].T,\n",
    "    },\n",
    "    xlabel=\"Time (d)\",\n",
    "    ylabel=\"X [m]\",\n",
    "    imshow_kwargs=dict(\n",
    "        extent=(\n",
    "            0.0,\n",
    "            time_params.nt * time_params.dt / 3600 / 24,\n",
    "            x_coordinates[0],\n",
    "            x_coordinates[-1],\n",
    "        )\n",
    "    ),\n",
    ")\n",
    "\n",
    "fname = \"tracer_concentration_true_vs_estimate_map\"\n",
    "for format in [\"png\", \"pdf\"]:\n",
    "    plotter.savefig((fig_save_path.joinpath(f\"{fname}.{format}\")), format=format)"
   ]
  },
  {
   "cell_type": "markdown",
   "metadata": {},
   "source": [
    "- Consider three observation locations"
   ]
  },
  {
   "cell_type": "code",
   "execution_count": null,
   "metadata": {},
   "outputs": [],
   "source": [
    "observation_locations = [6, 10, 15]"
   ]
  },
  {
   "cell_type": "code",
   "execution_count": null,
   "metadata": {},
   "outputs": [],
   "source": [
    "plotter = ngp.AnimatedPlotter(\n",
    "    fig_params={\"constrained_layout\": True, \"figsize\": (6, 5)},\n",
    ")\n",
    "\n",
    "ax = plotter.get_axis(\"ax1-1\")\n",
    "ax.plot(x_coordinates, model_reference.tr_model.conc[:, 0, 0], c=\"red\", label=\"Initial\")\n",
    "\n",
    "# Animated plot\n",
    "nb_frames = 30\n",
    "\n",
    "plotter.animated_multi_plot(\n",
    "    ax_name=\"ax1-1\",\n",
    "    data={\n",
    "        \"True\": {\n",
    "            \"x\": x_coordinates,\n",
    "            \"y\": model_reference.tr_model.conc[:, 0, :],\n",
    "            \"kwargs\": {\"c\": \"blue\"},\n",
    "        },\n",
    "        \"Estimated\": {\n",
    "            \"x\": x_coordinates,\n",
    "            \"y\": model_estimate.tr_model.conc[:, 0, :],\n",
    "            \"kwargs\": {\"c\": \"green\", \"linestyle\": \"--\"},\n",
    "        },\n",
    "    },\n",
    "    nb_frames=nb_frames,\n",
    "    title=\"Demonstrator conc\",\n",
    "    xlabel=\"X [m]\",\n",
    ")\n",
    "\n",
    "\n",
    "# plot the time\n",
    "def get_time() -> Generator[str, None, None]:\n",
    "    ts_btw_frames = int(time_params.dt * time_params.nt / nb_frames)\n",
    "    for frame in range(nb_frames):\n",
    "        yield f\"time = {ts_btw_frames * frame / 3600:.2f} h\"\n",
    "\n",
    "\n",
    "# Add some vertical lines to indicate the well\n",
    "for well_pos in observation_locations:\n",
    "    # handle = plotter.ax_dict[\"ax1-1\"].axvline(\n",
    "    #     x=well_pos, linestyle=\"--\", line\n",
    "    # )\n",
    "    # plotter.add_extra_legend_item(\"ax1-1\", handle, \"hm_end_time\")\n",
    "    ax.plot(\n",
    "        (well_pos + 0.5) * geometry.dx,\n",
    "        0.0002,\n",
    "        label=\"obs wells\",\n",
    "        marker=\"^\",\n",
    "        markersize=10,\n",
    "        c=\"r\",\n",
    "        linestyle=\"none\",\n",
    "    )\n",
    "\n",
    "plotter.plot_animated_text(\n",
    "    ax=ax,\n",
    "    x=0.83,\n",
    "    y=0.92,\n",
    "    s=list(get_time()),\n",
    "    horizontalalignment=\"center\",\n",
    "    verticalalignment=\"center\",\n",
    "    transform=ax.transAxes,\n",
    "    fontsize=14,\n",
    "    fontweight=\"bold\",\n",
    ")\n",
    "plotter.add_axis_legend(\"ax1-1\")\n",
    "\n",
    "plotter.close()\n",
    "plotter.animate(nb_frames=nb_frames)\n",
    "# Save the animation locally on the computer\n",
    "fname_html = fig_save_path.joinpath(\"true_vs_estimate_conc_animation.html\")\n",
    "writer = HTMLWriter(fps=5, embed_frames=True)\n",
    "writer.frame_format = \"svg\"  # Ensure svg format\n",
    "plotter.animation.save(str(fname_html), writer=writer)\n",
    "\n",
    "# Extract the svg from the html file (for animation in Latex)\n",
    "ngp.extract_frames_from_embedded_html_animation(fname_html)\n",
    "\n",
    "# Display the animation\n",
    "HTML(fname_html.read_text())"
   ]
  },
  {
   "cell_type": "markdown",
   "metadata": {},
   "source": [
    "Let's now consider that we have some observation wells. We can plot what the observation well would sample in both cases and see the difference. Let's place three wells at positions `65m`, `105m` and `155m` (at the center of the nodes)."
   ]
  },
  {
   "cell_type": "code",
   "execution_count": null,
   "metadata": {},
   "outputs": [],
   "source": [
    "from typing import List, Tuple\n",
    "\n",
    "\n",
    "def polygon_under_graph(x: np.ndarray, y: np.ndarray) -> List[Tuple[float, float]]:\n",
    "    \"\"\"\n",
    "    Construct the vertex list which defines the polygon filling the space under\n",
    "    the (x, y) line graph. This assumes x is in ascending order.\n",
    "    \"\"\"\n",
    "    return [(x[0], 0.0), *zip(x, y), (x[-1], 0.0)]\n",
    "\n",
    "\n",
    "well_pos = (np.array(observation_locations) + 0.5) * geometry.dx\n",
    "time_dim = model_reference.tr_model.conc.shape[2]\n",
    "z_max = model_reference.tr_model.conc.max()\n",
    "y = np.arange(time_dim)\n",
    "z = np.ones(time_dim) * z_max\n",
    "\n",
    "# verts[i] is a list of (x, y) pairs defining polygon i.\n",
    "verts = [polygon_under_graph(y, z)] * len(well_pos)\n",
    "\n",
    "poly1 = PolyCollection(verts, facecolors=\"g\", alpha=0.2, zorder=10)\n",
    "poly2 = PolyCollection(verts, facecolors=\"g\", alpha=0.2, zorder=10)\n",
    "plotter_3d.ax_dict[\"ax11\"].add_collection3d(poly1, zs=well_pos, zdir=\"x\")\n",
    "plotter_3d.ax_dict[\"ax12\"].add_collection3d(poly2, zs=well_pos, zdir=\"x\")\n",
    "\n",
    "for node_id in well_pos:\n",
    "    x = [node_id] * 2\n",
    "    y = [model_reference.tr_model.conc.shape[2]] * 2\n",
    "    z = (0.0, z_max)\n",
    "\n",
    "    plotter_3d.ax_dict[\"ax11\"].plot(\n",
    "        x, y, z, label=\"parametric curve\", linewidth=3.0, zorder=10, c=\"g\"\n",
    "    )\n",
    "    plotter_3d.ax_dict[\"ax12\"].plot(\n",
    "        x, y, z, label=\"parametric curve\", linewidth=3.0, zorder=10, c=\"g\"\n",
    "    )\n",
    "\n",
    "plotter_3d.fig"
   ]
  },
  {
   "cell_type": "markdown",
   "metadata": {},
   "source": [
    "- Create a function to add some noise to the observations (limit the inverse crime)"
   ]
  },
  {
   "cell_type": "code",
   "execution_count": null,
   "metadata": {},
   "outputs": [],
   "source": [
    "noise_std = 1e-4  # This is an absolute value\n",
    "rng = np.random.default_rng(2021)\n",
    "\n",
    "\n",
    "def make_noisy(x: NDArrayFloat) -> NDArrayFloat:\n",
    "    \"\"\"Return the input with some added white noise.\n",
    "\n",
    "    Note\n",
    "    ----\n",
    "    The parameters are hardcoded to be consistent in the notebook.\n",
    "    Change the function directly.\n",
    "    \"\"\"\n",
    "    mean_noise = 0.0  # mean\n",
    "    return x + rng.normal(mean_noise, noise_std, x.shape)"
   ]
  },
  {
   "cell_type": "markdown",
   "metadata": {},
   "source": [
    "- Plot what it gives at the well level"
   ]
  },
  {
   "cell_type": "code",
   "execution_count": null,
   "metadata": {},
   "outputs": [],
   "source": [
    "plotter = ngp.NestedGridPlotter(\n",
    "    fig_params={\"constrained_layout\": True, \"figsize\": (8, 8)},\n",
    "    subplots_mosaic_params={\n",
    "        \"fig0\": dict(\n",
    "            mosaic=[[\"ax1-1\"], [\"ax2-1\"], [\"ax3-1\"]], sharey=False, sharex=True\n",
    "        )\n",
    "    },\n",
    ")\n",
    "\n",
    "for i, node_id in enumerate(observation_locations):\n",
    "    ax = plotter.get_axis(f\"ax{i + 1}-1\")\n",
    "    x = (node_id + 0.5) * geometry.dx\n",
    "    obs_well_name = f\"obs. well @ node #{node_id} (x={x}m)\"\n",
    "\n",
    "    ax.set_title(obs_well_name)\n",
    "    ax.plot(\n",
    "        times_in_days,\n",
    "        model_reference.tr_model.conc[node_id, 0, :],\n",
    "        label=\"Reference\",\n",
    "        c=\"b\",\n",
    "    )\n",
    "    ax.plot(\n",
    "        times_in_days,\n",
    "        make_noisy(model_reference.tr_model.conc[node_id, 0, :]),\n",
    "        marker=\"o\",\n",
    "        linestyle=\"None\",\n",
    "        label=\"Noisy reference\",\n",
    "        c=\"b\",\n",
    "        alpha=0.2,\n",
    "    )\n",
    "    ax.plot(\n",
    "        times_in_days,\n",
    "        model_estimate.tr_model.conc[node_id, 0, :],\n",
    "        label=\"A priori\",\n",
    "        c=\"r\",\n",
    "    )\n",
    "\n",
    "plotter.fig.supxlabel(\"Time (d)\", fontweight=\"bold\")\n",
    "plotter.fig.supylabel(\"Concentration (mol/kg)\", fontweight=\"bold\")\n",
    "plotter.fig.suptitle(\"Tracer at obs wells\", fontweight=\"bold\")\n",
    "plotter.add_fig_legend(ncol=2, bbox_y_shift=0.02)\n",
    "\n",
    "fname = \"tracer_concentration_true_vs_estimate_at_obs_1D\"\n",
    "for format in [\"png\", \"pdf\"]:\n",
    "    plotter.savefig((fig_save_path.joinpath(f\"{fname}.{format}\")), format=format)"
   ]
  },
  {
   "cell_type": "markdown",
   "metadata": {},
   "source": [
    "## Inversion"
   ]
  },
  {
   "cell_type": "markdown",
   "metadata": {},
   "source": [
    "### Gradient verification with finite difference"
   ]
  },
  {
   "cell_type": "markdown",
   "metadata": {},
   "source": [
    "Inversion with three wells. Let's first check if the gradient with ths adjoint state method is correct."
   ]
  },
  {
   "cell_type": "code",
   "execution_count": null,
   "metadata": {},
   "outputs": [],
   "source": [
    "param = AdjustableParameter(\n",
    "    name=ParameterName.DIFFUSION,\n",
    "    lbounds=2e-5,\n",
    "    ubounds=5e-3,\n",
    "    preconditioner=dminv.LogTransform(),\n",
    ")\n",
    "\n",
    "observables = {}\n",
    "for node_id in [6, 10, 15]:\n",
    "    vals = model_reference.tr_model.conc[node_id, 0, :]\n",
    "    timesteps = np.arange(vals.shape[0])\n",
    "\n",
    "    observables[node_id] = Observable(\n",
    "        state_variable=StateVariable.CONCENTRATION,\n",
    "        location=(slice(node_id, node_id + 1, 1), slice(None)),\n",
    "        timesteps=timesteps,\n",
    "        values=vals,\n",
    "        uncertainties=noise_std,\n",
    "    )\n",
    "\n",
    "# Create an executor to keep track of the adjoint model\n",
    "solver_config = ScipySolverConfig(\n",
    "    solver_name=\"L-BFGS-B\",\n",
    "    solver_options={\"maxfun\": 20, \"maxiter\": 20, \"ftol\": 1e-4, \"gtol\": 1e-4},\n",
    "    is_check_gradient=True,\n",
    ")\n",
    "model_adjusted = copy.deepcopy(model_estimate)\n",
    "inverse_model = InverseModel(param, list(observables.values()))\n",
    "executor = ScipyInversionExecutor(model_adjusted, inverse_model, solver_config)\n",
    "\n",
    "is_grad_ok = executor.is_adjoint_gradient_correct()\n",
    "print(\"Is the gradient correct: \", is_grad_ok)"
   ]
  },
  {
   "cell_type": "markdown",
   "metadata": {},
   "source": [
    "- Plot the approximated gradient vs the adjoint-state based one"
   ]
  },
  {
   "cell_type": "code",
   "execution_count": null,
   "metadata": {},
   "outputs": [],
   "source": [
    "plotter = ngp.NestedGridPlotter()\n",
    "ax = plotter.get_axis(\"ax1-1\")\n",
    "ax.plot(\n",
    "    x_coordinates,\n",
    "    param.get_gridded_archived_gradients(is_adjoint=True)[:, :, 0],\n",
    "    label=\"Adj. Demonstrator\",\n",
    "    c=\"b\",\n",
    ")\n",
    "ax.plot(\n",
    "    x_coordinates,\n",
    "    param.get_gridded_archived_gradients(is_adjoint=False)[:, :, 0],\n",
    "    label=\"FD Demonstrator\",\n",
    "    c=\"r\",\n",
    "    linestyle=\"--\",\n",
    ")\n",
    "ax.set_xlabel(\"X [m]\", fontweight=\"bold\")\n",
    "ax.set_ylabel(\"Gradient (preconditioned)\", fontweight=\"bold\")\n",
    "plotter.add_fig_legend(ncol=2)"
   ]
  },
  {
   "cell_type": "markdown",
   "metadata": {},
   "source": [
    "Plot of the adjoint variables"
   ]
  },
  {
   "cell_type": "code",
   "execution_count": null,
   "metadata": {},
   "outputs": [],
   "source": [
    "plotter = ngp.NestedGridPlotter(\n",
    "    fig_params={\"constrained_layout\": True, \"figsize\": (8, 4)}\n",
    ")\n",
    "\n",
    "ngp.multi_imshow(\n",
    "    axes=list(plotter.ax_dict.values()),\n",
    "    fig=plotter.fig,\n",
    "    data={\n",
    "        \"Adjoint variable\": executor.adj_model.a_tr_model.a_conc[:, 0, :].T,\n",
    "    },\n",
    "    xlabel=\"Time (d)\",\n",
    "    ylabel=\"X [m]\",\n",
    "    imshow_kwargs=dict(\n",
    "        extent=(\n",
    "            0.0,\n",
    "            time_params.nt * time_params.dt / 3600 / 24,\n",
    "            x_coordinates[0],\n",
    "            x_coordinates[-1],\n",
    "        )\n",
    "    ),\n",
    ")\n",
    "\n",
    "fname = \"tracer_concentration_true_vs_estimate_map\"\n",
    "for format in [\"png\", \"pdf\"]:\n",
    "    plotter.savefig((fig_save_path.joinpath(f\"{fname}.{format}\")), format=format)"
   ]
  },
  {
   "cell_type": "markdown",
   "metadata": {},
   "source": [
    "At the observatinon well, we can see that the sign of the adjoint variable globally depends on the sign of the residuals."
   ]
  },
  {
   "cell_type": "code",
   "execution_count": null,
   "metadata": {},
   "outputs": [],
   "source": [
    "plotter = ngp.NestedGridPlotter(\n",
    "    fig_params={\"constrained_layout\": True, \"figsize\": (12, 8)},\n",
    "    subfigs_params={\"ncols\": 2},\n",
    "    subplots_mosaic_params={\n",
    "        \"fig0\": dict(\n",
    "            mosaic=[[\"ax1-1\"], [\"ax2-1\"], [\"ax3-1\"]], sharey=False, sharex=True\n",
    "        ),\n",
    "        \"fig1\": dict(\n",
    "            mosaic=[[\"ax1-2\"], [\"ax2-2\"], [\"ax3-2\"]], sharey=False, sharex=True\n",
    "        ),\n",
    "    },\n",
    ")\n",
    "\n",
    "for i, node_id in enumerate(observation_locations):\n",
    "    ax = plotter.get_axis(f\"ax{i + 1}-1\")\n",
    "    x = (node_id + 0.5) * geometry.dx\n",
    "    obs_well_name = f\"obs. well @ node #{node_id} (x={x}m)\"\n",
    "\n",
    "    ax.set_title(obs_well_name)\n",
    "    ax.plot(\n",
    "        times_in_days,\n",
    "        model_reference.tr_model.conc[node_id, 0, :],\n",
    "        label=\"Reference demonstrator\",\n",
    "        c=\"b\",\n",
    "    )\n",
    "    ax.plot(\n",
    "        times_in_days,\n",
    "        model_estimate.tr_model.conc[node_id, 0, :],\n",
    "        label=\"A priori demonstrator\",\n",
    "        c=\"r\",\n",
    "    )\n",
    "    ax2 = plotter.get_axis(f\"ax{i + 1}-2\")\n",
    "    ax2.set_title(obs_well_name)\n",
    "    ax2.plot(\n",
    "        times_in_days,\n",
    "        executor.adj_model.a_tr_model.a_conc[node_id, 0, :],\n",
    "        label=\"A priori demonstrator\",\n",
    "        c=\"r\",\n",
    "    )\n",
    "\n",
    "plotter.fig.supxlabel(\"Time (d)\", fontweight=\"bold\")\n",
    "plotter.subfigs[\"fig0\"].supylabel(\"Concentration (mol/kg)\", fontweight=\"bold\")\n",
    "plotter.subfigs[\"fig1\"].supylabel(\"Adjoint concentration\", fontweight=\"bold\")\n",
    "plotter.fig.suptitle(\"Tracer at obs wells\", fontweight=\"bold\")\n",
    "plotter.add_fig_legend(ncol=2, bbox_y_shift=0.02)\n",
    "\n",
    "fname = \"tracer_concentration_true_vs_estimate_at_obs_1D\"\n",
    "for format in [\"png\", \"pdf\"]:\n",
    "    plotter.savefig((fig_save_path.joinpath(f\"{fname}.{format}\")), format=format)"
   ]
  },
  {
   "cell_type": "markdown",
   "metadata": {},
   "source": [
    "### First inversion run"
   ]
  },
  {
   "cell_type": "code",
   "execution_count": null,
   "metadata": {},
   "outputs": [],
   "source": [
    "executor.run()"
   ]
  },
  {
   "cell_type": "markdown",
   "metadata": {},
   "source": [
    "Let's plot the results: evolution of the parameter, the gradient, the objective function."
   ]
  },
  {
   "cell_type": "code",
   "execution_count": null,
   "metadata": {},
   "outputs": [],
   "source": [
    "plotter = ngp.AnimatedPlotter(\n",
    "    fig_params={\"figsize\": (10.0, 8.0)}, subfigs_params={\"nrows\": 2, \"ncols\": 2}\n",
    ")\n",
    "\n",
    "# 1 frame per solver iteration\n",
    "nb_frames: int = inverse_model.nb_f_calls\n",
    "\n",
    "aligned_adjoint_gradients = param.get_gridded_archived_gradients(is_adjoint=True)\n",
    "\n",
    "# 1) Gradient evolution\n",
    "plotter.get_axis(\"ax1-1\").plot(\n",
    "    aligned_adjoint_gradients[:, 0, 0], label=\"Initial\", c=\"b\"\n",
    ")\n",
    "\n",
    "plotter.get_axis(\"ax1-1\").set_title(\"Gradient\", fontweight=\"bold\")\n",
    "\n",
    "xlabel = \"Node #\"\n",
    "\n",
    "plotter.animated_multi_plot(\n",
    "    ax_name=\"ax1-1\",\n",
    "    data={\n",
    "        \"ADJ\": {\"y\": aligned_adjoint_gradients[:, 0, :], \"kwargs\": {\"c\": \"g\"}},\n",
    "    },\n",
    "    nb_frames=nb_frames,\n",
    ")\n",
    "\n",
    "plotter.ax_dict[\"ax1-1\"].legend()\n",
    "\n",
    "\n",
    "# 2) Parameter evolution\n",
    "plotter.get_axis(\"ax1-2\").plot(\n",
    "    x_coordinates, model_reference.tr_model.diffusion[:, 0], c=\"b\", label=\"Reference\"\n",
    ")\n",
    "plotter.get_axis(\"ax1-2\").plot(\n",
    "    x_coordinates, model_reference.tr_model.diffusion[:, 0], c=\"orange\", label=\"Initial\"\n",
    ")\n",
    "\n",
    "plotter.animated_multi_plot(\n",
    "    ax_name=\"ax1-2\",\n",
    "    data={\n",
    "        \"Inverted\": {\n",
    "            \"x\": x_coordinates,\n",
    "            \"y\": np.transpose(np.array(param.archived_values), axes=[1, 2, 0])[:, 0, :],\n",
    "            \"kwargs\": {\"c\": \"r\", \"linestyle\": \"--\"},\n",
    "        },\n",
    "    },\n",
    "    nb_frames=nb_frames,\n",
    ")\n",
    "plotter.get_axis(\"ax1-2\").set_title(\"Diffusivity field\", fontweight=\"bold\")\n",
    "plotter.get_axis(\"ax1-2\").set_xlabel(\"X [m]\")\n",
    "plotter.get_axis(\"ax1-2\").set_ylabel(\"[m2/s]\")\n",
    "plotter.ax_dict[\"ax1-2\"].legend()\n",
    "plotter.ax_dict[\"ax1-2\"].set_yscale(\"log\")\n",
    "\n",
    "# 3) Objective function\n",
    "vals = inverse_model.loss_scaled_history\n",
    "obj_fun_vals = np.full((len(vals), nb_frames), fill_value=np.nan)\n",
    "for i in range(len(vals)):\n",
    "    obj_fun_vals[: i + 1, i] = vals[: i + 1]\n",
    "\n",
    "plotter.animated_multi_plot(\n",
    "    ax_name=\"ax2-1\",\n",
    "    data={\n",
    "        \"Obj fun\": {\"y\": obj_fun_vals, \"kwargs\": {\"c\": \"r\", \"linestyle\": \"--\"}},\n",
    "    },\n",
    "    nb_frames=nb_frames,\n",
    "    title=\"Objective function\",\n",
    "    xlabel=\"Iteration #\",\n",
    ")\n",
    "plotter.ax_dict[\"ax2-1\"].set_yscale(\"log\")\n",
    "\n",
    "# 4) Observation vs predicted values\n",
    "pyrtid.plot.plot_observed_vs_simulated(\n",
    "    plotter.ax_dict[\"ax2-2\"],\n",
    "    obs_vector=dminv.get_observables_values_as_1d_vector(list(observables.values()))\n",
    "    * 1000,\n",
    "    pred_vector=dminv.get_predictions_matching_observations(\n",
    "        model_adjusted, list(observables.values())\n",
    "    )\n",
    "    * 1000,\n",
    "    pred_vector_initial=dminv.get_predictions_matching_observations(\n",
    "        model_estimate, list(observables.values())\n",
    "    )\n",
    "    * 1000,\n",
    "    units=\"$mmol.l^{-1}$\",\n",
    ")\n",
    "\n",
    "plotter.close()\n",
    "plotter.animate(nb_frames=nb_frames)\n",
    "# Save the animation locally on the computer\n",
    "fname_html = fig_save_path.joinpath(\"m_j_g_animation.html\")\n",
    "writer = HTMLWriter(fps=2, embed_frames=True)\n",
    "writer.frame_format = \"svg\"  # Ensure svg format\n",
    "plotter.animation.save(str(fname_html), writer=writer)\n",
    "\n",
    "# Extract the svg from the html file (for animation in Latex)\n",
    "ngp.extract_frames_from_embedded_html_animation(fname_html)\n",
    "\n",
    "# Display the animation\n",
    "HTML(fname_html.read_text())"
   ]
  },
  {
   "cell_type": "code",
   "execution_count": null,
   "metadata": {},
   "outputs": [],
   "source": [
    "plotter = ngp.AnimatedPlotter(\n",
    "    fig_params={\"constrained_layout\": True, \"figsize\": (6, 5)},\n",
    ")\n",
    "\n",
    "ax = plotter.get_axis(\"ax1-1\")\n",
    "ax.plot(x_coordinates, model_reference.tr_model.conc[:, 0, 0], c=\"red\", label=\"Initial\")\n",
    "\n",
    "# Animated plot\n",
    "nb_frames = 30\n",
    "\n",
    "plotter.animated_multi_plot(\n",
    "    ax_name=\"ax1-1\",\n",
    "    data={\n",
    "        \"Reference\": {\n",
    "            \"x\": x_coordinates,\n",
    "            \"y\": model_reference.tr_model.conc[:, 0, :],\n",
    "            \"kwargs\": {\"c\": \"blue\"},\n",
    "        },\n",
    "        \"Before-inversion\": {\n",
    "            \"x\": x_coordinates,\n",
    "            \"y\": model_estimate.tr_model.conc[:, 0, :],\n",
    "            \"kwargs\": {\"c\": \"orange\", \"linestyle\": \"--\"},\n",
    "        },\n",
    "        \"Post-inversion\": {\n",
    "            \"x\": x_coordinates,\n",
    "            \"y\": model_adjusted.tr_model.conc[:, 0, :],\n",
    "            \"kwargs\": {\"c\": \"green\", \"linestyle\": \"--\"},\n",
    "        },\n",
    "    },\n",
    "    nb_frames=nb_frames,\n",
    "    title=\"Demonstrator conc\",\n",
    "    xlabel=\"X [m]\",\n",
    ")\n",
    "\n",
    "\n",
    "# plot the time\n",
    "def get_time() -> Generator[str, None, None]:\n",
    "    ts_btw_frames = int(time_params.dt * time_params.nt / nb_frames)\n",
    "    for frame in range(nb_frames):\n",
    "        yield f\"time = {ts_btw_frames * frame / 3600:.2f} h\"\n",
    "\n",
    "\n",
    "# Add some vertical lines to indicate the well\n",
    "for well_pos in observation_locations:\n",
    "    # handle = plotter.ax_dict[\"ax1-1\"].axvline(\n",
    "    #     x=well_pos, linestyle=\"--\", line\n",
    "    # )\n",
    "    # plotter.add_extra_legend_item(\"ax1-1\", handle, \"hm_end_time\")\n",
    "    ax.plot(\n",
    "        (well_pos + 0.5) * geometry.dx,\n",
    "        0.0002,\n",
    "        label=\"obs wells\",\n",
    "        marker=\"^\",\n",
    "        markersize=10,\n",
    "        c=\"r\",\n",
    "        linestyle=\"none\",\n",
    "    )\n",
    "\n",
    "plotter.plot_animated_text(\n",
    "    ax=ax,\n",
    "    x=0.83,\n",
    "    y=0.92,\n",
    "    s=list(get_time()),\n",
    "    horizontalalignment=\"center\",\n",
    "    verticalalignment=\"center\",\n",
    "    transform=ax.transAxes,\n",
    "    fontsize=14,\n",
    "    fontweight=\"bold\",\n",
    ")\n",
    "plotter.add_axis_legend(\"ax1-1\")\n",
    "\n",
    "plotter.close()\n",
    "plotter.animate(nb_frames=nb_frames)\n",
    "# Save the animation locally on the computer\n",
    "fname_html = fig_save_path.joinpath(\"true_vs_estimate_conc_animation.html\")\n",
    "writer = HTMLWriter(fps=5, embed_frames=True)\n",
    "writer.frame_format = \"svg\"  # Ensure svg format\n",
    "plotter.animation.save(str(fname_html), writer=writer)\n",
    "\n",
    "# Extract the svg from the html file (for animation in Latex)\n",
    "ngp.extract_frames_from_embedded_html_animation(fname_html)\n",
    "\n",
    "# Display the animation\n",
    "HTML(fname_html.read_text())"
   ]
  },
  {
   "cell_type": "markdown",
   "metadata": {},
   "source": [
    "# Impact of the gradient smoothing\n",
    "\n",
    "To facilitate convergence and avoid falling into local minima, a trick is to smooth the gradient during the first iterations. In this way, the adjustment will be done on the main trends at first, then more locally in a second time."
   ]
  },
  {
   "cell_type": "code",
   "execution_count": null,
   "metadata": {},
   "outputs": [],
   "source": [
    "param_with_gradient_smoothing = AdjustableParameter(\n",
    "    name=ParameterName.DIFFUSION,\n",
    "    lbounds=2e-5,\n",
    "    ubounds=5e-3,\n",
    "    preconditioner=dminv.LogTransform()\n",
    "    filters=[GaussianFilter(sigmas=[1.5, 1.5, 1.0, 0.5, 0.25])],\n",
    ")\n",
    "\n",
    "model_adjusted = copy.deepcopy(model_estimate)\n",
    "inverse_model2 = InverseModel(param, list(observables.values()))\n",
    "executor = ScipyInversionExecutor(model_adjusted, inverse_model2, solver_config)\n",
    "\n",
    "executor.run()"
   ]
  },
  {
   "cell_type": "markdown",
   "metadata": {},
   "source": [
    "Let's compare the objective functions with and without"
   ]
  },
  {
   "cell_type": "code",
   "execution_count": null,
   "metadata": {},
   "outputs": [],
   "source": [
    "fig, ax = plt.subplots()\n",
    "\n",
    "ax.plot(\n",
    "    inverse_model.loss_scaled_history, c=\"r\", linestyle=\"--\", label=\"Without smoother\"\n",
    ")\n",
    "ax.plot(\n",
    "    inverse_model2.loss_scaled_history, c=\"b\", linestyle=\"--\", label=\"With smoother\"\n",
    ")\n",
    "\n",
    "ax.set_title(\"Objective function\")\n",
    "ax.set_xlabel(\"Iteration #\")\n",
    "ax.set_yscale(\"log\")"
   ]
  },
  {
   "cell_type": "markdown",
   "metadata": {},
   "source": [
    "# Impact of the regularization"
   ]
  },
  {
   "cell_type": "markdown",
   "metadata": {},
   "source": [
    "We create three different models:\n",
    "- The first without regularization\n",
    "- The second with a tickonov regularization\n",
    "- The third with a TV regularization"
   ]
  },
  {
   "cell_type": "code",
   "execution_count": null,
   "metadata": {},
   "outputs": [],
   "source": [
    "param_no_reg = AdjustableParameter(\n",
    "    name=ParameterName.DIFFUSION,\n",
    "    lbounds=2e-5,\n",
    "    ubounds=5e-3,\n",
    "    preconditioner=dminv.LogTransform()\n",
    ")\n",
    "\n",
    "param_reg_tikhonov = AdjustableParameter(\n",
    "    name=ParameterName.DIFFUSION,\n",
    "    lbounds=2e-5,\n",
    "    ubounds=5e-3,\n",
    "    preconditioner=dminv.LogTransform()\n",
    "    regularizators=[\n",
    "        TikhonovRegularizator(geometry.dx, axis=0, is_preconditioned=True)\n",
    "    ],\n",
    ")\n",
    "\n",
    "param_reg_tv = AdjustableParameter(\n",
    "    name=ParameterName.DIFFUSION,\n",
    "    lbounds=2e-5,\n",
    "    ubounds=5e-3,\n",
    "    preconditioner=dminv.LogTransform()\n",
    "    regularizators=[\n",
    "        TVRegularizator(geometry.dx, axis=0, is_preconditioned=True)\n",
    "    ],\n",
    ")"
   ]
  },
  {
   "cell_type": "code",
   "execution_count": null,
   "metadata": {},
   "outputs": [],
   "source": [
    "# Update solver_config\n",
    "solver_config.solver_options = {\"maxfun\": 20, \"maxiter\": 20, \"ftol\": 1e-6, \"gtol\": 1e-6}\n",
    "solver_config.max_optimization_round_nb = 2\n",
    "\n",
    "# Running the inversion without regularization\n",
    "model_adjusted_no_reg = copy.deepcopy(model_estimate)\n",
    "inverse_model_no_reg = InverseModel(param_no_reg, list(observables.values()))\n",
    "executor = ScipyInversionExecutor(\n",
    "    model_adjusted_no_reg, inverse_model_no_reg, solver_config\n",
    ")\n",
    "executor.run()\n",
    "\n",
    "# Running the inversion with tikhonov regularization\n",
    "model_adjusted_tn = copy.deepcopy(model_estimate)\n",
    "inverse_model_tn = InverseModel(param_reg_tikhonov, list(observables.values()))\n",
    "executor = ScipyInversionExecutor(model_adjusted_tn, inverse_model_tn, solver_config)\n",
    "executor.run()\n",
    "\n",
    "# Running the inversion with total variation regularization\n",
    "model_adjusted_tv = copy.deepcopy(model_estimate)\n",
    "inverse_model_tv = InverseModel(param_reg_tv, list(observables.values()))\n",
    "executor = ScipyInversionExecutor(model_adjusted_tv, inverse_model_tv, solver_config)\n",
    "executor.run()"
   ]
  },
  {
   "cell_type": "markdown",
   "metadata": {},
   "source": [
    "Let's see the results in term of inverted parameter."
   ]
  },
  {
   "cell_type": "code",
   "execution_count": null,
   "metadata": {},
   "outputs": [],
   "source": [
    "# Here comes the python code\n",
    "plotter = ngp.NestedGridPlotter(\n",
    "    fig_params={\"constrained_layout\": True, \"figsize\": (14, 5)},\n",
    "    subplots_mosaic_params={\n",
    "        \"fig0\": dict(mosaic=[[\"ax1-1\", \"ax1-2\", \"ax1-3\"]], sharey=True, sharex=True)\n",
    "    },\n",
    ")\n",
    "\n",
    "ax1 = plotter.ax_dict[\"ax1-1\"]\n",
    "ax2 = plotter.ax_dict[\"ax1-2\"]\n",
    "ax3 = plotter.ax_dict[\"ax1-3\"]\n",
    "\n",
    "for ax, param in zip([ax1, ax2, ax3], [param_no_reg, param_reg_tikhonov, param_reg_tv]):\n",
    "    ax.plot(x_coordinates, model_reference.tr_model.diffusion, c=\"b\", label=\"Reference\")\n",
    "    ax.plot(x_coordinates, param.archived_values[0], c=\"orange\", label=\"Initial\")\n",
    "    ax.plot(\n",
    "        x_coordinates,\n",
    "        param.archived_values[-1],\n",
    "        c=\"r\",\n",
    "        label=\"Post inversion\",\n",
    "        linestyle=\"--\",\n",
    "    )\n",
    "    ax.set_yscale(\"log\")\n",
    "\n",
    "ax1.set_title(\"No regularization\", fontweight=\"bold\")\n",
    "ax2.set_title(\"Tikohonov regularization\", fontweight=\"bold\")\n",
    "ax3.set_title(\"TV regularization\", fontweight=\"bold\")\n",
    "\n",
    "plotter.fig.supxlabel(\"X [m]\", fontweight=\"bold\")\n",
    "plotter.fig.supylabel(\"Diffusion coefficient (m/s)\", fontweight=\"bold\")\n",
    "plotter.add_fig_legend(ncol=3)\n",
    "plotter.fig.suptitle(\"Impact of the regularization on the final inverted parameter\")\n",
    "\n",
    "plotter.savefig(\"Impact of the regularization on the final inverted parameter.pdf\")"
   ]
  }
 ],
 "metadata": {
  "interpreter": {
   "hash": "dcef77e0dabfbf37e54a3b802eb724b14f0a86b07a600ec9a0955ad16bb29384"
  },
  "kernelspec": {
   "display_name": "Python 3.9.7 ('base')",
   "language": "python",
   "name": "python3"
  },
  "language_info": {
   "codemirror_mode": {
    "name": "ipython",
    "version": 3
   },
   "file_extension": ".py",
   "mimetype": "text/x-python",
   "name": "python",
   "nbconvert_exporter": "python",
   "pygments_lexer": "ipython3",
   "version": "3.9.13"
  }
 },
 "nbformat": 4,
 "nbformat_minor": 2
}
