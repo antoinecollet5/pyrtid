{
 "cells": [
  {
   "cell_type": "markdown",
   "metadata": {},
   "source": [
    "# Gradient verification for the 1D diffusion case with 1st order kinetics"
   ]
  },
  {
   "cell_type": "markdown",
   "metadata": {},
   "source": [
    "The goal here is to verify the correctness of the adjoint state method in HYTEC by comparing the results with the demonstrator's which are considered as correct."
   ]
  },
  {
   "cell_type": "code",
   "execution_count": null,
   "metadata": {},
   "outputs": [],
   "source": [
    "import copy\n",
    "from pathlib import Path\n",
    "from typing import Dict\n",
    "\n",
    "import gstools as gs\n",
    "import matplotlib.pyplot as plt\n",
    "import nested_grid_plotter as ngp\n",
    "import numpy as np\n",
    "import pandas as pd\n",
    "import pyrtid\n",
    "from IPython.display import HTML\n",
    "from matplotlib.animation import HTMLWriter\n",
    "\n",
    "gs.config.USE_RUST = True  # Use the rust implementation of gstools"
   ]
  },
  {
   "cell_type": "markdown",
   "metadata": {},
   "source": [
    "\n",
    "- Check package/software versions"
   ]
  },
  {
   "cell_type": "code",
   "execution_count": null,
   "metadata": {},
   "outputs": [],
   "source": [
    "pyrtid.utils.show_versions()"
   ]
  },
  {
   "cell_type": "markdown",
   "metadata": {},
   "source": [
    "- Create a directory to store the exported figures"
   ]
  },
  {
   "cell_type": "code",
   "execution_count": null,
   "metadata": {},
   "outputs": [],
   "source": [
    "ipynb_path = os.path.dirname(os.path.realpath(\"__file__\"))\n",
    "fig_save_path = Path(ipynb_path, \"exported_figures\")\n",
    "fig_save_path.mkdir(parents=True, exist_ok=True)  # make sure that the directory exists"
   ]
  },
  {
   "cell_type": "markdown",
   "metadata": {},
   "source": [
    "- Define some configurations for the plots"
   ]
  },
  {
   "cell_type": "code",
   "execution_count": null,
   "metadata": {},
   "outputs": [],
   "source": [
    "# Some configs for the plots\n",
    "new_rc_params = {\n",
    "    \"font.family\": \"sans-serif\",\n",
    "    \"font.sans-serif\": [\"Helvetica\", \"DejaVu Sans\"],\n",
    "    \"font.size\": 16,\n",
    "    \"text.usetex\": False,\n",
    "    \"savefig.format\": \"svg\",\n",
    "    \"svg.fonttype\": \"none\",  # to store text as text, not as path\n",
    "    \"savefig.facecolor\": \"w\",\n",
    "    \"savefig.edgecolor\": \"k\",\n",
    "    \"savefig.dpi\": 300,\n",
    "    \"figure.constrained_layout.use\": True,\n",
    "    \"figure.facecolor\": \"w\",\n",
    "    # \"axes.facecolor\": \"w\",\n",
    "}\n",
    "csfont = {\"fontname\": \"Comic Sans MS\"}\n",
    "hfont = {\"fontname\": \"Helvetica\"}\n",
    "plt.rcParams.update(new_rc_params)"
   ]
  },
  {
   "cell_type": "markdown",
   "metadata": {},
   "source": [
    "- Define a runner"
   ]
  },
  {
   "cell_type": "code",
   "execution_count": null,
   "metadata": {},
   "outputs": [],
   "source": [
    "if runner_type == RunnerType.FRONTAL:\n",
    "    runner = FrontalHytecRunner(\n",
    "        hytec_binary_path_or_alias=hytec_binary_path_or_alias,\n",
    "        mpi_binary_path_or_alias=mpi_binary_path_or_alias,\n",
    "        nb_cpu=4,\n",
    "        freq_checks_is_simu_over_sec=5,\n",
    "    )\n",
    "elif runner_type == RunnerType.SLURM:\n",
    "    job_config = JobConfig(\n",
    "        hytec_binary_path_or_alias=hytec_binary_path_or_alias,\n",
    "        nb_nodes=1,\n",
    "        ncpus=4,\n",
    "        queue=\"geo-cpu\",\n",
    "        mpi_binary_path_or_alias=mpi_binary_path_or_alias,\n",
    "        dos2unix_binary_path_or_alias=dos2unix_binary_path_or_alias,\n",
    "    )\n",
    "    runner = SlurmHytecRunner(\n",
    "        job_config=job_config,\n",
    "        freq_checks_is_simu_over_sec=5,\n",
    "    )\n",
    "elif runner_type == RunnerType.QSUB:\n",
    "    job_config = JobConfig(\n",
    "        hytec_binary_path_or_alias=hytec_binary_path_or_alias,\n",
    "        nb_nodes=1,\n",
    "        ncpus=4,\n",
    "        queue=\"Omines_cpu\",\n",
    "        mpi_binary_path_or_alias=mpi_binary_path_or_alias,\n",
    "        dos2unix_binary_path_or_alias=dos2unix_binary_path_or_alias,\n",
    "    )\n",
    "    runner = QsubHytecRunner(\n",
    "        job_config=job_config,\n",
    "        freq_checks_is_simu_over_sec=5,\n",
    "    )\n",
    "else:\n",
    "    raise Exception(\"Could not created runner\")"
   ]
  },
  {
   "cell_type": "markdown",
   "metadata": {},
   "source": [
    "## Forward problem\n",
    "\n",
    "- Define a very simple pure diffusion - advection case in 1D."
   ]
  },
  {
   "cell_type": "code",
   "execution_count": null,
   "metadata": {},
   "outputs": [],
   "source": [
    "nx = 14  # number of voxels along the x axis\n",
    "ny = 7  # number of voxels along the y axis\n",
    "dx = 10.0  # voxel dimension along the x axis\n",
    "dy = 10.0  # voxel dimension along the y axis\n",
    "nt = 300  # number of time steps\n",
    "dt = 43200.0  # timestep in seconds\n",
    "c0 = 0  # general initial cocentration\n",
    "# Hydro parameters\n",
    "D0 = 1e-10  # general initial diffusion coefficient [m2/s]\n",
    "k0 = 1e-4  # general permeability\n",
    "w0 = 0.23  # general porosity [fraction]\n",
    "wdiff = 1.0  # Diffusion\n",
    "wadv = 1.0  # Advection\n",
    "# Chemistry parameters\n",
    "c0 = 0.0  # general initial concentration [molal]\n",
    "M0 = 0.001  # mineral grade [mol/kg] -> kg of water\n",
    "kv = -6.9e-9  # kinetic rate,       [mol/m2/s]\n",
    "moleweight = 270.0  # molar weight [g/mol]\n",
    "surface = 500  # cm2/g\n",
    "As = moleweight * surface / 1e4  # specific area [m2/mol]\n",
    "logK = 3.2\n",
    "Ks = 1.0 / pow(10, logK)  # solubility constant [no unit]\n",
    "wmin = 1.0  # Mineral dissolution\n",
    "\n",
    "# Values for the x axis ()meters\n",
    "x_positions_in_meters = np.arange(nx) * dx + dx / 2"
   ]
  },
  {
   "cell_type": "markdown",
   "metadata": {},
   "source": [
    "- Five observation wells"
   ]
  },
  {
   "cell_type": "code",
   "execution_count": null,
   "metadata": {},
   "outputs": [],
   "source": [
    "injection_locations = [(3, 3)]\n",
    "production_locations = [(10, 3)]"
   ]
  },
  {
   "cell_type": "markdown",
   "metadata": {},
   "source": [
    "The mineral grades are defined in [mol/kg]. We calculate the conversion factor to obtain ppm and perform easier mass balances.\n",
    "\n",
    "ConvU: parameter for converting the mineral content in [mol/kg] to metal grade in [ppm]. Note that the ConvU parameter is specific to the Uranium carrier phase: here Uraninite.\n",
    "\n",
    "$C_{Uraninite}[\\frac{mol}{kg}] = convU \\times T_{Uranium}[ppm]$\n",
    "\n",
    "\n",
    "and\n",
    "\n",
    "\n",
    "$conv_u = \\frac{1.023 \\times density_{rock}}{238*porosity_{rock} \\times 1000}$\n",
    "\n",
    "Note the 1.023 is the conversion factor from molar mass to molal mass in CHESS."
   ]
  },
  {
   "cell_type": "code",
   "execution_count": null,
   "metadata": {},
   "outputs": [],
   "source": [
    "conv_u: float = 1.023 * 1.63 / (238.0 * w0 * 1000)\n",
    "print(f\"conv_u = {conv_u:.4e}\")"
   ]
  },
  {
   "cell_type": "markdown",
   "metadata": {},
   "source": [
    "- Create an initial gaussian spatial distribution for the mineral"
   ]
  },
  {
   "cell_type": "code",
   "execution_count": null,
   "metadata": {},
   "outputs": [],
   "source": [
    "# Create a Gaussian Covariance Model just for the example\n",
    "# To vary the results, change the seed :)\n",
    "seed = 6\n",
    "\n",
    "min_val = 10 * conv_u  # 10 ppm\n",
    "max_val = 500 * conv_u  # 500 ppm\n",
    "# Compute the mean and the standard deviation that the distribution should have so that\n",
    "# <99% of the values are between min and max ~ 6 sigmas\n",
    "mean = (max_val + min_val) / 2\n",
    "stdev = (max_val - min_val) / 3 / 2  # std ~ 1/6 of the distribution interval\n",
    "len_scale = 2\n",
    "\n",
    "s_init_true = gen_random_ensemble(\n",
    "    model=gs.covmodel.Gaussian,\n",
    "    n_ensemble=1,\n",
    "    var=stdev**2,\n",
    "    len_scale=len_scale,\n",
    "    mean=mean,\n",
    "    nx=nx,\n",
    "    ny=ny,\n",
    "    seed=seed,\n",
    ")[0, :, :, 0]\n",
    "\n",
    "\n",
    "# Initial estimate = an homogeneous value\n",
    "s_init_estimate = np.ones((nx, ny)) * 50 * conv_u  # 50 ppm\n",
    "\n",
    "plotter = FieldPlotter(\n",
    "    fig_params={\"constrained_layout\": True, \"figsize\": (12, 6)},\n",
    "    subplots_mosaic_params={\n",
    "        \"fig0\": dict(mosaic=[[\"ax1-1\", \"ax1-2\"]], sharey=True, sharex=True)\n",
    "    },\n",
    ")\n",
    "plotter.plot_2d_field(\n",
    "    ax_names=[\"ax1-1\", \"ax1-2\"],\n",
    "    data={\n",
    "        \"True\": s_init_true / conv_u,\n",
    "        \"Estimated\": s_init_estimate / conv_u,\n",
    "    },\n",
    "    cbar_title=\"Metal grade $[ppm]$\",\n",
    "    imshow_kwargs={\"cmap\": plt.get_cmap(\"jet\"), \"extent\": [0.0, nx * dx, 0.0, ny * dy]},\n",
    "    xlabel=\"X [m]\",\n",
    "    ylabel=\"Y [m]\",\n",
    ")\n",
    "plotter.subfigs[\"fig0\"].suptitle(\"Metal grade [ppm]\", fontweight=\"bold\")\n",
    "\n",
    "fname = \"Min_T_Cinet_field_true_vs_initial_estimation\"\n",
    "for format in [\"png\", \"pdf\"]:\n",
    "    plotter.savefig((fig_save_path.joinpath(f\"{fname}.{format}\")), format=format)"
   ]
  },
  {
   "cell_type": "markdown",
   "metadata": {},
   "source": [
    "- Note: The initial concentration is null."
   ]
  },
  {
   "cell_type": "markdown",
   "metadata": {},
   "source": [
    "- Create the flowrates for the wells: 12 m3/h decreasing following an exponential... for the producers with a balanced injection (2 m3/h per associated cell for the injectors)."
   ]
  },
  {
   "cell_type": "code",
   "execution_count": null,
   "metadata": {},
   "outputs": [],
   "source": [
    "def gen_flowrates(amplitude: float, coef: float, nt: int, dt: float) -> np.ndarray:\n",
    "    \"\"\"Generate flowrates with a given amplitude and decrease coefficient.\n",
    "\n",
    "    Parameters\n",
    "    ----------\n",
    "    amplitude : float\n",
    "        Amplitude in m3/h.\n",
    "    coef : float\n",
    "        Decrease coefficient.\n",
    "    nt : int\n",
    "        Number of timesteps\n",
    "    dt : float\n",
    "        Timesteps.\n",
    "\n",
    "    Returns\n",
    "    -------\n",
    "    np.ndarray\n",
    "        The flowrates.\n",
    "    \"\"\"\n",
    "    return amplitude * np.exp(coef * np.arange(nt) * dt)"
   ]
  },
  {
   "cell_type": "markdown",
   "metadata": {},
   "source": [
    "- Generate a flowrates with an initial amplitude at 1 m3/h and plot it"
   ]
  },
  {
   "cell_type": "code",
   "execution_count": null,
   "metadata": {},
   "outputs": [],
   "source": [
    "flowrates = gen_flowrates(1.0, 0, nt, dt=1.0)  # m/h\n",
    "\n",
    "plt.plot(np.arange(nt), flowrates)\n",
    "plt.ylim(0.0, 1.10)\n",
    "plt.xlabel(\"time [d]\")"
   ]
  },
  {
   "cell_type": "markdown",
   "metadata": {},
   "source": [
    "### Forward problem in demonstrator"
   ]
  },
  {
   "cell_type": "code",
   "execution_count": null,
   "metadata": {},
   "outputs": [],
   "source": [
    "# We define a function to easily generate a model.\n",
    "def create_base_model() -> RTModel:\n",
    "    return RTModel(\n",
    "        nx,\n",
    "        ny,\n",
    "        dx,\n",
    "        dy,\n",
    "        nt,\n",
    "        dt,\n",
    "        c0,\n",
    "        D0,\n",
    "        k0,\n",
    "        w0,\n",
    "        M0,\n",
    "        kv,\n",
    "        As,\n",
    "        Ks,\n",
    "        wdiff=wdiff,\n",
    "        wadv=wadv,\n",
    "        wmin=wmin,\n",
    "    )"
   ]
  },
  {
   "cell_type": "markdown",
   "metadata": {},
   "source": [
    "### Forward problem definition in HYTEC"
   ]
  },
  {
   "cell_type": "code",
   "execution_count": null,
   "metadata": {},
   "outputs": [],
   "source": [
    "# Create an empty simulation in a non existing folder\n",
    "simu_base = HytecSimulation(\"simu_base\", Path.cwd().joinpath(\"simu_base\"))\n",
    "\n",
    "htc = simu_base.handlers.htc\n",
    "htc_path = simu_base.htc_file_path\n",
    "\n",
    "# Add a TDB file\n",
    "simu_base.link_tdb(\"./../../../../TDB/chess.tdb\")  # This is relative to the htc file\n",
    "\n",
    "htc.output_format = \"vtk\"\n",
    "\n",
    "# Hydrodynamic parameters definition\n",
    "htc.flow_regime = \"stationary\"\n",
    "htc.porosity = w0\n",
    "htc.permeability = k0\n",
    "htc.permeability_units = \"m/s\"\n",
    "htc.diffusion_coefficient = D0\n",
    "htc.diffusion_coefficient_units = \"m2/s\"\n",
    "htc.head = 0\n",
    "\n",
    "# Boundary definition\n",
    "htc.grid_regime = \"rectangle\"\n",
    "htc.domain = f\"{nx*dx},{nx} {ny*dy},{ny}\"\n",
    "\n",
    "# Geometry\n",
    "dzone = HytecZone(\"domain\", htc_path)\n",
    "dzone.geometries = [\"domain\"]\n",
    "dzone.geochem = \"chem_base\"\n",
    "htc.zones_dict[\"domain\"] = dzone\n",
    "\n",
    "# Boundary conditions\n",
    "left_border = HytecBoundary(\"border_left\", htc_path)\n",
    "left_border.coordinates = f\"0,0, 0,{ny*dy} m\"\n",
    "htc.boundaries_dict[\"left\"] = left_border\n",
    "\n",
    "right_border = HytecBoundary(\"border_right\", htc_path)\n",
    "right_border.coordinates = f\"{nx*dx},{ny*dy}, {nx*dx},0 m\"\n",
    "left_border.flow_condition = \"constant-head at 0 m\"\n",
    "htc.boundaries_dict[\"right\"] = right_border\n",
    "\n",
    "top_border = HytecBoundary(\"border_top\", htc_path)\n",
    "top_border.coordinates = f\"0,{ny*dy}, {nx*dx},{ny*dy} m\"\n",
    "htc.boundaries_dict[\"top\"] = top_border\n",
    "\n",
    "bottom_border = HytecBoundary(\"border_bottom\", htc_path)\n",
    "bottom_border.coordinates = f\"0,0, {nx*dx},0 m\"\n",
    "htc.boundaries_dict[\"bottom\"] = bottom_border\n",
    "\n",
    "for border in htc.boundaries_dict.values():\n",
    "    border.flow_condition = \"constant-head at 0 m\"\n",
    "\n",
    "# Geochemical unit definition\n",
    "htc.report = \"full\"\n",
    "htc.redox = \"disabled\"\n",
    "new_unit = HytecGeochemUnit(\"chem_base\")\n",
    "new_unit.concentrations[\"T_Cinet\"] = Concentration(\"T_Cinet\", c0, \"molal\")\n",
    "new_unit.minerals[\"Min_T_Cinet\"] = Mineral(\n",
    "    \"Min_T_Cinet\", M0, grade_units=\"mol/kg\", surface=As, surface_units=\"m2/mol\"\n",
    ")\n",
    "htc.geochem_units_dict[new_unit.name] = new_unit\n",
    "\n",
    "new_unit = HytecGeochemUnit(\"injected_solution\")\n",
    "new_unit.concentrations[\"T_Cinet\"] = Concentration(\"T_Cinet\", c0, \"molal\")\n",
    "new_unit.minerals[\"Min_T_Cinet\"] = Mineral(\n",
    "    \"Min_T_Cinet\", 0.0, grade_units=\"mol/kg\", surface=As, surface_units=\"m2/mol\"\n",
    ")\n",
    "htc.geochem_units_dict[new_unit.name] = new_unit\n",
    "\n",
    "\n",
    "# Time specification\n",
    "htc.duration = nt * dt\n",
    "htc.duration_units = \"s\"\n",
    "htc.timestep = (\n",
    "    f\"variable {{\\n\\tstart = {dt} s\\n\\tmaximum = {dt} s\\n\\tcourant-factor = 20\\n}}\"\n",
    ")\n",
    "htc.samples = nt\n",
    "\n",
    "# define, extend\n",
    "\n",
    "htc.define_list.append(\n",
    "    HytecDefinition(\n",
    "        phase=\"basis\",\n",
    "        species=\"T_Cinet\",\n",
    "        content=f\"\"\"\\n\\tmoleweight = {moleweight} g/mol\\n\"\"\",\n",
    "    )\n",
    ")\n",
    "\n",
    "htc.define_list.append(\n",
    "    HytecDefinition(\n",
    "        phase=\"mineral\",\n",
    "        species=\"Min_T_Cinet\",\n",
    "        content=f\"\"\"\n",
    "\tcomposition = 1 T_Cinet\n",
    "\tlogK = {logK}\n",
    "\tsurface = {surface} cm2/g\n",
    "\tkinetics {{\n",
    "\t\trate = {kv} mol/m2/s\n",
    "\t\tarea = Min_T_Cinet\n",
    "\t\ty-term, species = Min_T_Cinet\n",
    "\t}}\\n\"\"\",\n",
    "    )\n",
    ")\n",
    "\n",
    "# select\n",
    "htc.verbose = \"enabled\"\n",
    "htc.grid_select_list = [\n",
    "    \"time in s\",\n",
    "    \"node-number\",\n",
    "    \"x-flowrate in m/s\",\n",
    "    \"permeability in m/s\",\n",
    "    \"head in m\",\n",
    "    \"porosity\",\n",
    "    \"Min_T_Cinet in mol/kg\",\n",
    "    \"T_Cinet in mol/kg\",\n",
    "]\n",
    "\n",
    "# exclude\n",
    "htc.exclude_list = [\"minerals\", \"colloids\", \"gases\"]"
   ]
  },
  {
   "cell_type": "markdown",
   "metadata": {},
   "source": [
    "- Create the injection/pumping file: 1 column per well + 1 column for the time (days)"
   ]
  },
  {
   "cell_type": "code",
   "execution_count": null,
   "metadata": {},
   "outputs": [],
   "source": [
    "src_term_path = Path.cwd().joinpath(\"source_terms.dat\")\n",
    "src_term_data: NDArrayFloat = np.zeros(\n",
    "    (nt, len(injection_locations) + len(production_locations) + 1)\n",
    ")\n",
    "src_term_data[:, 0] = np.arange(stop=nt + 1, start=1)"
   ]
  },
  {
   "cell_type": "markdown",
   "metadata": {},
   "source": [
    "- Create one zone per well with the correct flowrates: negative for producers and positive for injectors."
   ]
  },
  {
   "cell_type": "code",
   "execution_count": null,
   "metadata": {},
   "outputs": [],
   "source": [
    "prod_flw_coef = -2  # m3/h\n",
    "\n",
    "# 1) Add the producer wells\n",
    "count_prod: int = 0  # to avoid unbounded values in the next loop\n",
    "for count_prod, (ix, iy) in enumerate(production_locations):\n",
    "    name = f\"producer_{ix}_{iy}\"\n",
    "    zone = HytecZone(name, htc_path=simu_base.htc_file_path)\n",
    "    zone.geometries.append(f\"rectangle {(ix + 0.5) * dx},{(iy + 0.5) * dy}, {dx},{dy}\")\n",
    "    zone.geochem = \"chem_base\"\n",
    "    zone.global_flux = name  # TODO: need to handle the type of obs with the selects\n",
    "    zone.source = f\"{prod_flw_coef * flowrates[0]} m3/h\"  # using chem_A ...\n",
    "    zone.modify_list.append(\n",
    "        f\"at $1 d, source = ${count_prod+2} m3/h using chem_base from \"\n",
    "    )\n",
    "    zone.modify_src_files.append(src_term_path)\n",
    "    simu_base.handlers.htc.zones_dict[name] = zone\n",
    "\n",
    "    # Update the src_terms file -> 2 m3/h for a producer\n",
    "    src_term_data[:, count_prod + 1] = flowrates * prod_flw_coef\n",
    "\n",
    "n_prod_linked_list = [1]\n",
    "inj_flw_coef = -len(production_locations) * prod_flw_coef / sum(n_prod_linked_list)\n",
    "\n",
    "# 2) Add the injector wells\n",
    "for count_inj, (ix, iy) in enumerate(injection_locations):\n",
    "    name = f\"injector_{ix}_{iy}\"\n",
    "    zone = HytecZone(name, htc_path=simu_base.htc_file_path)\n",
    "    zone.geometries.append(f\"rectangle {(ix + 0.5) * dx},{(iy + 0.5) * dy}, {dx},{dy}\")\n",
    "    zone.geochem = \"chem_base\"\n",
    "    zone.global_flux = name  # TODO: need to handle the type of obs with the selects\n",
    "    zone.source = f\"{n_prod_linked_list[count_inj] * inj_flw_coef * flowrates[0]} m3/h using injected_solution\"\n",
    "    zone.modify_list.append(\n",
    "        f\"at $1 d, source = ${count_prod + count_inj +3} m3/h using chem_base from \"\n",
    "    )\n",
    "    zone.modify_src_files.append(src_term_path)\n",
    "    simu_base.handlers.htc.zones_dict[name] = zone\n",
    "\n",
    "    src_term_data[:, count_prod + count_inj + 2] = (\n",
    "        flowrates * inj_flw_coef * n_prod_linked_list[count_inj]\n",
    "    )\n",
    "\n",
    "# 3) Add the src_data_file (need to write and read the file... which is a bit stupid...)\n",
    "np.savetxt(src_term_path, src_term_data, fmt=\"%.3f\", delimiter=\"\\t\")\n",
    "htc.modify_src_file_dict[src_term_path] = open(src_term_path, \"r\").read()"
   ]
  },
  {
   "cell_type": "markdown",
   "metadata": {},
   "source": [
    "- Create two models from this base simulation"
   ]
  },
  {
   "cell_type": "code",
   "execution_count": null,
   "metadata": {},
   "outputs": [],
   "source": [
    "simu_true = copy.deepcopy(simu_base)\n",
    "simu_true.update_root_and_name(new_root=\"simu_true\", new_name=\"simu_true\")\n",
    "simu_estimate = copy.deepcopy(simu_base)\n",
    "simu_estimate.update_root_and_name(new_root=\"simu_estimate\", new_name=\"simu_estimate\")"
   ]
  },
  {
   "cell_type": "markdown",
   "metadata": {},
   "source": [
    "- Add the mineral fields to the simulations"
   ]
  },
  {
   "cell_type": "code",
   "execution_count": null,
   "metadata": {},
   "outputs": [],
   "source": [
    "index: NDArrayFloat = np.arange(nx * ny)\n",
    "\n",
    "# True\n",
    "data_true = pd.DataFrame(\n",
    "    data={\n",
    "        \"node-number\": index,\n",
    "        # x and y are cell centers\n",
    "        # \"x\": (index % nx) * dx + dx / 2,\n",
    "        \"Min_T_Cinet\": s_init_true.ravel(),\n",
    "        \"Min_T_Cinet2\": s_init_true.ravel(),\n",
    "    },  # need to flatten the parameter\n",
    "    index=index,\n",
    ")\n",
    "simu_true.add_param_file_data(ParameterFiles.MINERALS, data_true)\n",
    "\n",
    "# Estimated\n",
    "data_estimated = pd.DataFrame(\n",
    "    data={\n",
    "        \"node-number\": index,\n",
    "        # x and y are cell centers\n",
    "        # \"x\": (index % nx) * dx + dx / 2,\n",
    "        \"Min_T_Cinet\": s_init_estimate.ravel(),\n",
    "        \"Min_T_Cinet2\": s_init_estimate.ravel(),\n",
    "    },  # need to flatten the parameter\n",
    "    index=index,\n",
    ")\n",
    "simu_estimate.add_param_file_data(ParameterFiles.MINERALS, data_estimated)"
   ]
  },
  {
   "cell_type": "markdown",
   "metadata": {},
   "source": [
    "- Checking the hydro parameters have been correctly set-up"
   ]
  },
  {
   "cell_type": "code",
   "execution_count": null,
   "metadata": {},
   "outputs": [],
   "source": [
    "simu_true.handlers.minerals.data"
   ]
  },
  {
   "cell_type": "code",
   "execution_count": null,
   "metadata": {},
   "outputs": [],
   "source": [
    "simu_estimate.handlers.minerals.data"
   ]
  },
  {
   "cell_type": "code",
   "execution_count": null,
   "metadata": {},
   "outputs": [],
   "source": [
    "simu_true.write_input_files()\n",
    "simu_estimate.write_input_files()\n",
    "runner.run(simu_true)\n",
    "runner.run(simu_estimate)"
   ]
  },
  {
   "cell_type": "markdown",
   "metadata": {},
   "source": [
    "### Comparison between hytec and the demonstrator for the forward problem"
   ]
  },
  {
   "cell_type": "markdown",
   "metadata": {},
   "source": [
    "- Reading the results for the true diffusion simulation"
   ]
  },
  {
   "cell_type": "code",
   "execution_count": null,
   "metadata": {},
   "outputs": [],
   "source": [
    "simu_true.read_hytec_results()\n",
    "simu_true.handlers.results.grid_res_columns"
   ]
  },
  {
   "cell_type": "code",
   "execution_count": null,
   "metadata": {},
   "outputs": [],
   "source": [
    "fwd_conc_true_hytec = simu_true.handlers.results.extract_field_from_grid_res(\n",
    "    field=\"T_Cinet [mol/kg]\", nx=nx, ny=ny\n",
    ")\n",
    "fwd_min_true_hytec = simu_true.handlers.results.extract_field_from_grid_res(\n",
    "    field=\"Min_T_Cinet [mol/kg]\", nx=nx, ny=ny\n",
    ")\n",
    "# Getting sample time. The unit is the same than the one defined for the simulation duration in the htc\n",
    "flux_sample_times = simu_true.handlers.results.get_sample_times_from_grid_res()"
   ]
  },
  {
   "cell_type": "markdown",
   "metadata": {},
   "source": [
    "- Reading the results for the estimated diffusion simulation"
   ]
  },
  {
   "cell_type": "code",
   "execution_count": null,
   "metadata": {},
   "outputs": [],
   "source": [
    "simu_estimate.read_hytec_results()\n",
    "simu_estimate.handlers.results.grid_res_columns"
   ]
  },
  {
   "cell_type": "code",
   "execution_count": null,
   "metadata": {},
   "outputs": [],
   "source": [
    "# Get the results on a 3D grid with the last dimension as time step\n",
    "fwd_conc_estimate_hytec = simu_estimate.handlers.results.extract_field_from_grid_res(\n",
    "    field=\"T_Cinet [mol/kg]\",\n",
    "    nx=nx,\n",
    "    ny=ny,\n",
    ")\n",
    "fwd_min_estimate_hytec = simu_estimate.handlers.results.extract_field_from_grid_res(\n",
    "    field=\"Min_T_Cinet [mol/kg]\", nx=nx, ny=ny\n",
    ")"
   ]
  },
  {
   "cell_type": "markdown",
   "metadata": {},
   "source": [
    "- Top view of the adjoint concentrations"
   ]
  },
  {
   "cell_type": "markdown",
   "metadata": {},
   "source": [
    "- Adjoint variable at the producer locations"
   ]
  },
  {
   "cell_type": "code",
   "execution_count": null,
   "metadata": {},
   "outputs": [],
   "source": [
    "plotter = StateVariableSlicePlotter(nb_obs_loc=len(production_locations), nb_obs_type=1)\n",
    "for i, (ix, iy) in enumerate(production_locations):\n",
    "    x = (ix + 0.5) * dx\n",
    "    y = (iy + 0.5) * dy\n",
    "    obs_well_name = f\"obs. well @ node #{ix}_{iy}\"\n",
    "\n",
    "    plotter.plot_state(\n",
    "        row_id=i,\n",
    "        obs_well_name=obs_well_name,\n",
    "        data={\n",
    "            \"Tracer\": {\n",
    "                # \"True demonstrator\": (\n",
    "                #     solver_true.model.fwd_conc[node_id, 0, :] * 1e3,\n",
    "                #     {\"c\": \"b\", \"linestyle\": \"--\", \"zorder\": 3},\n",
    "                # ),\n",
    "                # \"A priori (estimate) model demonstrator\": (\n",
    "                #     solver_estimate.model.fwd_conc[node_id, 0, :] * 1e3,\n",
    "                #     {\"c\": \"r\", \"linestyle\": \"--\", \"zorder\": 3},\n",
    "                # ),\n",
    "                \"True model hytec\": (\n",
    "                    fwd_conc_true_hytec[ix, iy, 0, :] * 1e3,\n",
    "                    {\"c\": \"g\"},\n",
    "                ),\n",
    "                \"A priori (estimate) model hytec\": (\n",
    "                    fwd_conc_estimate_hytec[ix, iy, 0, :] * 1e3,\n",
    "                    {\"c\": \"k\"},\n",
    "                ),\n",
    "            },\n",
    "        },\n",
    "    )\n",
    "plotter.add_fig_legend(ncol=2)\n",
    "\n",
    "fname = \"tracer_concentration_true_vs_estimate_at_obs_1D\"\n",
    "for format in [\"png\", \"pdf\"]:\n",
    "    plotter.savefig((fig_save_path.joinpath(f\"{fname}.{format}\")), format=format)"
   ]
  },
  {
   "cell_type": "code",
   "execution_count": null,
   "metadata": {},
   "outputs": [],
   "source": [
    "plotter = ngp.AnimatedPlotter(\n",
    "    fig_params={\"constrained_layout\": True, \"figsize\": (12, 10)},\n",
    "    subfigs_params={\"nrows\": 2},\n",
    "    subplots_mosaic_params={\n",
    "        \"fig0\": dict(mosaic=[[\"ax1-1\", \"ax1-2\"]], sharey=True, sharex=True),\n",
    "        \"fig1\": dict(mosaic=[[\"ax2-1\", \"ax2-2\"]], sharey=True, sharex=True),\n",
    "    },\n",
    ")\n",
    "\n",
    "# Static plot\n",
    "for ax_name in [\"ax1-1\", \"ax1-2\"]:\n",
    "    plotter.plot_1d_static(\n",
    "        ax_name=ax_name,\n",
    "        data={\"Initial\": {\"data\": c_ * 1e3, \"kwargs\": {\"c\": \"red\"}}},\n",
    "    )\n",
    "\n",
    "for ax_name in [\"ax2-1\", \"ax2-2\"]:\n",
    "    plotter.plot_1d_static(\n",
    "        ax_name=ax_name,\n",
    "        data={\n",
    "            \"Initial\": {\n",
    "                \"data\": fwd_min_true_hytec[:, 1, 0, 0] / conv_u,\n",
    "                \"kwargs\": {\"c\": \"red\"},\n",
    "            }\n",
    "        },\n",
    "    )\n",
    "\n",
    "# Animated plot\n",
    "nb_frames = 30\n",
    "\n",
    "plotter.animated_multi_plot(\n",
    "    ax_name=\"ax1-1\",\n",
    "    nb_frames=nb_frames,\n",
    "    data={\n",
    "        \"True\": {\n",
    "            \"data\": fwd_conc_true_hytec[:, 1, 0, :] * 1e3,\n",
    "            \"kwargs\": {\"c\": \"blue\"},\n",
    "        },\n",
    "        \"Estimated\": {\n",
    "            \"data\": fwd_conc_estimate_hytec[:, 1, 0, :] * 1e3,\n",
    "            \"kwargs\": {\"c\": \"green\", \"linestyle\": \"--\"},\n",
    "        },\n",
    "    },\n",
    "    title=\"HYTEC conc\",\n",
    "    xlabel=\"Node #\",\n",
    "    ylabel=\"[mmol/kg]\",\n",
    ")\n",
    "\n",
    "# plotter.animated_multi_plot(\n",
    "#     ax_name=\"ax1-2\",\n",
    "#     nb_frames=nb_frames,\n",
    "#     data={\n",
    "#         \"True\": {\n",
    "#             \"data\": solver_true.model.fwd_conc[:, 0, :] * 1e3,\n",
    "#             \"kwargs\": {\"c\": \"blue\"},\n",
    "#         },\n",
    "#         \"Estimated\": {\n",
    "#             \"data\": solver_estimate.model.fwd_conc[:, 0, :] * 1e3,\n",
    "#             \"kwargs\": {\"c\": \"green\", \"linestyle\": \"--\"},\n",
    "#         },\n",
    "#     },\n",
    "#     title=\"Demonstrator conc\",\n",
    "#     xlabel=\"Node #\",\n",
    "# )\n",
    "\n",
    "plotter.animated_multi_plot(\n",
    "    ax_name=\"ax2-1\",\n",
    "    nb_frames=nb_frames,\n",
    "    data={\n",
    "        \"True\": {\n",
    "            \"data\": fwd_min_true_hytec[:, 1, 0, :] / conv_u,\n",
    "            \"kwargs\": {\"c\": \"blue\"},\n",
    "        },\n",
    "        \"Estimated\": {\n",
    "            \"data\": fwd_min_estimate_hytec[:, 1, 0, :] / conv_u,\n",
    "            \"kwargs\": {\"c\": \"green\", \"linestyle\": \"--\"},\n",
    "        },\n",
    "    },\n",
    "    title=\"HYTEC conc\",\n",
    "    xlabel=\"Node #\",\n",
    "    ylabel=\"[ppm]\",\n",
    ")\n",
    "\n",
    "# plotter.animated_multi_plot(\n",
    "#     ax_name=\"ax2-2\",\n",
    "#     nb_frames=nb_frames,\n",
    "#     data={\n",
    "#         \"True\": {\n",
    "#             \"data\": solver_true.model.fwd_min[:, 0, :] / conv_u,\n",
    "#             \"kwargs\": {\"c\": \"blue\"},\n",
    "#         },\n",
    "#         \"Estimated\": {\n",
    "#             \"data\": solver_estimate.model.fwd_min[:, 0, :] / conv_u,\n",
    "#             \"kwargs\": {\"c\": \"green\", \"linestyle\": \"--\"},\n",
    "#         },\n",
    "#     },\n",
    "#     title=\"Demonstrator min\",\n",
    "#     xlabel=\"Node #\",\n",
    "# )\n",
    "\n",
    "for ax_name in [\"ax1-1\", \"ax1-2\", \"ax2-1\", \"ax2-2\"]:\n",
    "    # Add some vertical lines to indicate the well\n",
    "    for well_pos in production_locations:\n",
    "        plotter.ax_dict[ax_name].plot(\n",
    "            well_pos,\n",
    "            0.0002,\n",
    "            label=\"obs wells\",\n",
    "            marker=\"^\",\n",
    "            markersize=10,\n",
    "            c=\"r\",\n",
    "            linestyle=\"none\",\n",
    "        )\n",
    "\n",
    "    plotter.add_axis_legend(ax_name)\n",
    "\n",
    "plotter.ax_dict[\"ax2-1\"].set_ylim(0, plotter.ax_dict[\"ax2-1\"].get_ylim()[1])\n",
    "\n",
    "plotter.animate(nb_frames=nb_frames)\n",
    "# Save the animation locally on the computer\n",
    "fname_html = fig_save_path.joinpath(\"true_vs_estimate_conc_animation.html\")\n",
    "writer = HTMLWriter(fps=5, embed_frames=True)\n",
    "writer.frame_format = \"svg\"  # Ensure svg format\n",
    "plotter.animation.save(fname_html, writer=writer)\n",
    "\n",
    "# Extract the svg from the html file (for animation in Latex)\n",
    "ngp.extract_frames_from_embedded_html_animation(fname_html)\n",
    "\n",
    "# Display the animation\n",
    "HTML(fname_html.read_text())"
   ]
  },
  {
   "cell_type": "markdown",
   "metadata": {},
   "source": [
    "- Plot the heads"
   ]
  },
  {
   "cell_type": "code",
   "execution_count": null,
   "metadata": {},
   "outputs": [],
   "source": [
    "fwd_heads_true_hytec = simu_true.handlers.results.extract_field_from_grid_res(\n",
    "    field=\"head [m]\", nx=nx\n",
    ")\n",
    "\n",
    "plt.plot(fwd_heads_true_hytec[:, 0, 0, 0], label=\"initial\")\n",
    "plt.plot(fwd_heads_true_hytec[:, 0, 0, -1], label=\"final\")\n",
    "plt.ylabel(\"Head [m]\")\n",
    "plt.legend()\n",
    "\n",
    "plt.savefig(str(fig_save_path.joinpath(\"Heads in forward.png\")))"
   ]
  },
  {
   "cell_type": "markdown",
   "metadata": {},
   "source": [
    "- Plot the speed"
   ]
  },
  {
   "cell_type": "code",
   "execution_count": null,
   "metadata": {},
   "outputs": [],
   "source": [
    "fwd_darcy_true_hytec = simu_true.handlers.results.extract_field_from_grid_res(\n",
    "    field=\"flowrate [m/s]\", nx=nx\n",
    ")\n",
    "\n",
    "plt.plot(fwd_darcy_true_hytec[:, 0, 0, 0], label=\"initial\")\n",
    "plt.plot(fwd_darcy_true_hytec[:, 0, 0, -1], label=\"final\")\n",
    "plt.ylabel(\"x-flowrate [m/s]\")\n",
    "plt.legend()\n",
    "\n",
    "plt.savefig(str(fig_save_path.joinpath(\"Flowrates in forward.png\")))"
   ]
  },
  {
   "cell_type": "markdown",
   "metadata": {},
   "source": [
    "## Inversion\n",
    "\n",
    "- Create a function to add some noise to the observations"
   ]
  },
  {
   "cell_type": "code",
   "execution_count": null,
   "metadata": {},
   "outputs": [],
   "source": [
    "noise_std = 1  # 5e-6  # This is an absolute value\n",
    "rng = np.random.default_rng(2021)\n",
    "\n",
    "\n",
    "def make_noisy(x: NDArrayFloat) -> NDArrayFloat:\n",
    "    \"\"\"Return the input with some added white noise.\n",
    "\n",
    "    Note\n",
    "    ----\n",
    "    The parameters are hardcoded to be consistent in the notebook.\n",
    "    Change the function directly.\n",
    "    \"\"\"\n",
    "    mean_noise = 0.0  # mean\n",
    "    return x\n",
    "    return x + rng.normal(mean_noise, noise_std, x.shape)"
   ]
  },
  {
   "cell_type": "markdown",
   "metadata": {},
   "source": [
    "- Check the intensity of the noise"
   ]
  },
  {
   "cell_type": "code",
   "execution_count": null,
   "metadata": {},
   "outputs": [],
   "source": [
    "plt.figure(facecolor=\"w\")\n",
    "plt.plot(fwd_conc_true_hytec[node_id, 0, 0, :])\n",
    "plt.plot(\n",
    "    make_noisy(fwd_conc_true_hytec[node_id, 0, 0, :]), marker=\".\", linestyle=\"none\"\n",
    ")"
   ]
  },
  {
   "cell_type": "markdown",
   "metadata": {},
   "source": [
    "### Demonstrator\n"
   ]
  },
  {
   "cell_type": "code",
   "execution_count": null,
   "metadata": {},
   "outputs": [],
   "source": [
    "# Create an executor\n",
    "executor = InversionExecutor(model_estimate)\n",
    "\n",
    "\n",
    "param = PyrtidAdjustableParameter(\n",
    "    name=PyrtidParameterName.INITIAL_GRADE,\n",
    "    lbounds=0.0,\n",
    "    ubounds=600.0 * conv_u,\n",
    ")\n",
    "\n",
    "\n",
    "observables: Dict[int, PyrtidObservable] = {}\n",
    "for node_id in production_locations:\n",
    "    vals = make_noisy(solver_true.model.fwd_conc[node_id, 0, :])\n",
    "    timesteps = np.arange(vals.shape[0])\n",
    "\n",
    "    observables[node_id] = PyrtidObservable(\n",
    "        state_variable=\"tracer\",\n",
    "        location=(slice(node_id, node_id + 1, 1), slice(None)),\n",
    "        timesteps=timesteps,\n",
    "        values=vals,\n",
    "        uncertainties=noise_std,\n",
    "    )\n",
    "\n",
    "# Compute the gradient both by finite difference and adjoint method\n",
    "is_grad_ok = executor.is_gradient_correct(\n",
    "    param,\n",
    "    list(observables.values()),\n",
    ")\n",
    "print(\"Is the gradient correct: \", is_grad_ok)"
   ]
  },
  {
   "cell_type": "markdown",
   "metadata": {},
   "source": [
    "### HYTEC"
   ]
  },
  {
   "cell_type": "code",
   "execution_count": null,
   "metadata": {},
   "outputs": [],
   "source": [
    "# 1) Copy the base simulation\n",
    "simu_inverse = copy.deepcopy(simu_estimate)\n",
    "simu_inverse.update_root_and_name(new_root=\"simu_inverse\", new_name=\"simu_inverse\")\n",
    "\n",
    "# 2) Add the observation wells\n",
    "for count, ix in enumerate(production_locations):\n",
    "    x = (ix + 0.5) * model_true.dx\n",
    "    name = f\"producer_{ix}\"\n",
    "    vals = make_noisy(fwd_conc_true_hytec[ix, 0, 0, :])\n",
    "    odata = pd.DataFrame(\n",
    "        data={\n",
    "            \"time [s]\": flux_sample_times,\n",
    "            \"node-number\": indices_to_hytec_node_number(ix, nx=nx),\n",
    "            \"T_Cinet [mol/kg]\": vals,\n",
    "            \"T_Cinet uncertainties [mol/kg]\": noise_std,\n",
    "        }\n",
    "    )\n",
    "\n",
    "    # Add the observables for the area\n",
    "    obs = Observable(\n",
    "        zone_name=zone.name,\n",
    "        column_index=3,\n",
    "        root_relative_path=f\"observables/well{count + 1}_o.dat\",\n",
    "        root_path=simu_inverse.root,\n",
    "        type=ObservationType.GRID,\n",
    "        uncertainties_column_index=4,\n",
    "    )\n",
    "    obs.handler.update_data(odata)\n",
    "    simu_inverse.handlers.htc.zones_dict[name].observables.append(obs)\n",
    "\n",
    "# 3) Update the htc file with some options\n",
    "simu_inverse.handlers.htc.optimization = \"enabled\"\n",
    "simu_inverse.handlers.htc.optimization_solver = OptimizationSolverConfig(\n",
    "    solver_name=\"lbfgsb\", adjoint_state=\"enabled\", fd_gradient_check=\"initial\"\n",
    ")\n",
    "simu_inverse.handlers.htc.adjusted_parameters_dict = {\n",
    "    \"mineral Min_T_Cinet\": AdjustedParameterConfig(\n",
    "        name=\"mineral Min_T_Cinet\", lbounds=0.0, ubounds=600.0 * conv_u\n",
    "    ),\n",
    "}\n",
    "simu_inverse.handlers.htc.adjoint_sampling = (\n",
    "    nt  # number of samples on the adjoint variables\n",
    ")\n",
    "\n",
    "# 4)Write the input files\n",
    "simu_inverse.write_input_files()\n",
    "\n",
    "runner.run(simu_inverse)\n",
    "\n",
    "# 7) Read results\n",
    "simu_inverse.read_hytec_results()  # This fails if not results have been written"
   ]
  },
  {
   "cell_type": "code",
   "execution_count": null,
   "metadata": {},
   "outputs": [],
   "source": [
    "simu_inverse.read_hytec_results()"
   ]
  },
  {
   "cell_type": "code",
   "execution_count": null,
   "metadata": {},
   "outputs": [],
   "source": [
    "inverse_heads_hytec = simu_inverse.handlers.results.extract_field_from_grid_res(\n",
    "    field=\"head [m]\", nx=nx\n",
    ")\n",
    "\n",
    "print(inverse_heads_hytec.shape)\n",
    "\n",
    "plt.plot(inverse_heads_hytec[:, 0, 0, 0])\n",
    "plt.plot(inverse_heads_hytec[:, 0, 0, 1])"
   ]
  },
  {
   "cell_type": "markdown",
   "metadata": {},
   "source": [
    "- Extract the adjoint variables computed for the first gradient"
   ]
  },
  {
   "cell_type": "code",
   "execution_count": null,
   "metadata": {},
   "outputs": [],
   "source": [
    "print(f\"columns = {simu_inverse.handlers.results.optim_res.adjoint_var_columns}\")"
   ]
  },
  {
   "cell_type": "code",
   "execution_count": null,
   "metadata": {},
   "outputs": [],
   "source": [
    "adj_conc_hytec = simu_inverse.handlers.results.extract_field_from_adj_var_res(\n",
    "    field=\"adjoint-variable{T_Cinet} [m]\", nx=nx\n",
    ")\n",
    "adj_conc_hytec.shape"
   ]
  },
  {
   "cell_type": "markdown",
   "metadata": {},
   "source": [
    "### Results comparison"
   ]
  },
  {
   "cell_type": "markdown",
   "metadata": {},
   "source": [
    "- Compare objective functions"
   ]
  },
  {
   "cell_type": "code",
   "execution_count": null,
   "metadata": {},
   "outputs": [],
   "source": [
    "print(\n",
    "    \"demonstrator 1st obj function = \",\n",
    "    executor.rt_solver.inverse_model.loss_scaled_history[0],\n",
    ")\n",
    "print(\"hytec 1st obj function = \", simu_inverse.handlers.results.optim_res.obj_funs[0])"
   ]
  },
  {
   "cell_type": "markdown",
   "metadata": {},
   "source": [
    "Because the mineral, tracer and associated observations has been doubled in the case of HYTEC (to test if all is working correctly), the objective function is expected twice higer in the case of HYTEC."
   ]
  },
  {
   "cell_type": "markdown",
   "metadata": {},
   "source": [
    "- The adjoint concentrations should be quite the same both in shape and intensity."
   ]
  },
  {
   "cell_type": "code",
   "execution_count": null,
   "metadata": {},
   "outputs": [],
   "source": [
    "plotter = ngp.AnimatedPlotter(\n",
    "    fig_params={\"constrained_layout\": True, \"figsize\": (6, 5)},\n",
    "    subfigs_params={\"nrows\": 2},\n",
    "    subplots_mosaic_params={\n",
    "        \"fig0\": dict(mosaic=[[\"ax1-1\"]], sharey=True, sharex=True),\n",
    "    },\n",
    ")\n",
    "\n",
    "# Animated plot\n",
    "nb_frames = 30\n",
    "\n",
    "plotter.animated_multi_plot(\n",
    "    ax_name=\"ax1-1\",\n",
    "    nb_frames=nb_frames,\n",
    "    data={\n",
    "        \"Adj\": {\n",
    "            \"data\": adj_conc_hytec[:, 0, 0, ::-1],\n",
    "            \"kwargs\": {\"c\": \"blue\"},\n",
    "        },\n",
    "    },\n",
    "    title=\"HYTEC conc\",\n",
    "    xlabel=\"Node #\",\n",
    "    ylabel=\"[mmol/kg]\",\n",
    ")\n",
    "\n",
    "for ax_name, ax in plotter.ax_dict.items():\n",
    "    # Add some vertical lines to indicate the well\n",
    "    for well_pos in production_locations:\n",
    "        ax.plot(\n",
    "            well_pos,\n",
    "            0.0002,\n",
    "            label=\"obs wells\",\n",
    "            marker=\"^\",\n",
    "            markersize=10,\n",
    "            c=\"r\",\n",
    "            linestyle=\"none\",\n",
    "        )\n",
    "\n",
    "    plotter.add_axis_legend(ax_name)\n",
    "\n",
    "plotter.animate(nb_frames=nb_frames)\n",
    "# Save the animation locally on the computer\n",
    "fname_html = fig_save_path.joinpath(\"true_vs_estimate_conc_animation.html\")\n",
    "writer = HTMLWriter(fps=5, embed_frames=True)\n",
    "writer.frame_format = \"svg\"  # Ensure svg format\n",
    "plotter.animation.save(fname_html, writer=writer)\n",
    "\n",
    "# Extract the svg from the html file (for animation in Latex)\n",
    "ngp.extract_frames_from_embedded_html_animation(fname_html)\n",
    "\n",
    "# Display the animation\n",
    "HTML(fname_html.read_text())"
   ]
  },
  {
   "cell_type": "markdown",
   "metadata": {},
   "source": [
    "- Check the adjoint variables at the observation well"
   ]
  },
  {
   "cell_type": "code",
   "execution_count": null,
   "metadata": {},
   "outputs": [],
   "source": [
    "plotter = StateVariableSlicePlotter(nb_obs_loc=len(production_locations), nb_obs_type=1)\n",
    "for i, node_id in enumerate(production_locations):\n",
    "    x = (node_id + 0.5) * model_true.dx\n",
    "    obs_well_name = f\"obs. well @ node #{node_id} (x={x}m)\"\n",
    "\n",
    "    plotter.plot_state(\n",
    "        row_id=i,\n",
    "        obs_well_name=obs_well_name,\n",
    "        data={\n",
    "            \"Tracer adjoint variable\": {\n",
    "                # \"Adj. var. Demonstrator\": (\n",
    "                #     executor.rt_solver.inverse_model.adj_conc[node_id, 0, :],\n",
    "                #     {\"c\": \"g\"},\n",
    "                # ),\n",
    "                \"Adj. var. HYTEC\": (adj_conc_hytec[node_id, 0, 0, :], {\"c\": \"r\"}),\n",
    "            }\n",
    "        },\n",
    "    )\n",
    "plotter.add_fig_legend(ncol=2)\n",
    "\n",
    "fname = \"adjoint_concentrations_dem_vs_hytec_1D\"\n",
    "for format in [\"png\", \"pdf\"]:\n",
    "    plotter.savefig((fig_save_path.joinpath(f\"{fname}.{format}\")), format=format)"
   ]
  },
  {
   "cell_type": "markdown",
   "metadata": {},
   "source": [
    "- Get the gradients by the adjoint method and finite differences"
   ]
  },
  {
   "cell_type": "markdown",
   "metadata": {},
   "source": [
    "Finally, plot the gradients comparison."
   ]
  },
  {
   "cell_type": "code",
   "execution_count": null,
   "metadata": {},
   "outputs": [],
   "source": [
    "# Get the HYTEC  Adj gradient\n",
    "hytec_fd_gradient = simu_inverse.handlers.results.optim_res.fd_gradients[0]\n",
    "hytec_adjoint_gradient = simu_inverse.handlers.results.optim_res.adjoint_gradients[0]"
   ]
  },
  {
   "cell_type": "markdown",
   "metadata": {},
   "source": [
    "- The demonstrator gradient must be dvided by two to see the equivalence, because the objective function is two times higher in HYTEC. Also, note that the gradient in the demonstrator has 40 values (40 grid cells), while it has 80 in HYTEC (40 grid cells * 2 minerals)."
   ]
  },
  {
   "cell_type": "code",
   "execution_count": null,
   "metadata": {},
   "outputs": [],
   "source": [
    "# Here comes the python code\n",
    "plotter = FieldPlotter()\n",
    "plotter.plot_1d_field(\n",
    "    ax_name=\"ax1-1\",\n",
    "    data={\n",
    "        # \"Adj. Demonstrator\": {\n",
    "        #     \"data\": param.grad_adj_history[0] / 2,\n",
    "        #     \"kwargs\": {\"c\": \"b\"},\n",
    "        # },\n",
    "        # \"FD Demonstrator\": {\n",
    "        #     \"data\": param.grad_fd_history[0] / 2,\n",
    "        #     \"kwargs\": {\"c\": \"r\", \"linestyle\": \"--\"},\n",
    "        # },\n",
    "        \"Adj. HYTEC\": {\"data\": hytec_adjoint_gradient[\"value\"], \"kwargs\": {\"c\": \"g\"}},\n",
    "        \"FD HYTEC\": {\n",
    "            \"data\": hytec_fd_gradient[\"value\"],\n",
    "            \"kwargs\": {\"c\": \"k\", \"linestyle\": \"--\"},\n",
    "        },\n",
    "    },\n",
    "    title=\"Gradient at first iteration\",\n",
    "    xlabel=\"Node #\",\n",
    ")\n",
    "plotter.add_fig_legend(ncol=2, bbox_y_shift=-0.1)\n",
    "\n",
    "fname = \"gradient_dem_vs_hytec_adj_vs_df_1d_diffusion\"\n",
    "for format in [\"png\", \"pdf\"]:\n",
    "    plotter.savefig((fig_save_path.joinpath(f\"{fname}.{format}\")), format=format)"
   ]
  },
  {
   "cell_type": "markdown",
   "metadata": {},
   "source": []
  },
  {
   "cell_type": "markdown",
   "metadata": {},
   "source": [
    "# Full optimization"
   ]
  },
  {
   "cell_type": "code",
   "execution_count": null,
   "metadata": {},
   "outputs": [],
   "source": [
    "# 1) Copy the base simulation\n",
    "simu_inverse2 = copy.deepcopy(simu_inverse)\n",
    "simu_inverse2.update_root_and_name(\n",
    "    new_root=\"simu_inverse_lbfgsb\", new_name=\"simu_inverse_lbfgsb\"\n",
    ")\n",
    "\n",
    "# 2) Update the htc file with some options\n",
    "simu_inverse2.handlers.htc.optimization = \"enabled\"\n",
    "simu_inverse2.handlers.htc.optimization_solver = OptimizationSolverConfig(\n",
    "    solver_name=\"lbfgsb\",\n",
    "    max_number_iterations=4,\n",
    "    max_number_fwd_model_eval=600,\n",
    "    max_number_gradient_eval=15,\n",
    "    max_number_hessian_eval=1,\n",
    "    objfun_threshold=1e-1,\n",
    "    objfun_min_change=0.0,\n",
    "    param_min_change=0.0,\n",
    "    gradient_min_norm=0.0,\n",
    "    hessian_max_norm=0.0,\n",
    "    grad_history_size=5,\n",
    "    adjoint_state=\"enabled\",\n",
    "    fd_gradient_check=\"disabled\",\n",
    ")\n",
    "\n",
    "# 4)Write the input files\n",
    "simu_inverse2.write_input_files()\n",
    "runner.run(simu_inverse2)\n",
    "\n",
    "# 5) Read the results\n",
    "simu_inverse2.read_hytec_results()"
   ]
  },
  {
   "cell_type": "markdown",
   "metadata": {},
   "source": [
    "- Get the concentrations"
   ]
  },
  {
   "cell_type": "code",
   "execution_count": null,
   "metadata": {},
   "outputs": [],
   "source": [
    "# Get the results on a 3D grid with the last dimension as time step\n",
    "fwd_conc_inversed_hytec = simu_inverse2.handlers.results.extract_field_from_grid_res(\n",
    "    field=\"T_Cinet [mol/kg]\", nx=nx\n",
    ")"
   ]
  },
  {
   "cell_type": "markdown",
   "metadata": {},
   "source": [
    "- Get the gradients "
   ]
  },
  {
   "cell_type": "code",
   "execution_count": null,
   "metadata": {},
   "outputs": [],
   "source": [
    "print(simu_inverse2.handlers.results.optim_res.adjoint_gradients[0].columns)\n",
    "\n",
    "adjoint_gradients = simu_inverse2.handlers.results.get_adjoint_gradient(\n",
    "    \"Min_T_Cinet\", nx=nx, ny=ny\n",
    ")\n",
    "fd_gradients = simu_inverse2.handlers.results.get_fd_gradient(\n",
    "    \"Min_T_Cinet\", nx=nx, ny=ny\n",
    ")\n",
    "adjusted_min_grade = simu_inverse2.handlers.results.get_adjusted_parameter_field(\n",
    "    \"Min_T_Cinet\", nx=nx, ny=ny\n",
    ")\n",
    "obj_funs = simu_inverse2.handlers.results.optim_res.obj_funs"
   ]
  },
  {
   "cell_type": "markdown",
   "metadata": {},
   "source": [
    "- Align gradients and objective functions: Because of the construction in HYTEC, unless I am mistaken, the objective function and fitted parameter vectors match exactly. On the other hand, there is an uncontrolled mismatch with the gradients due to the solver which, depending on its needs, may have to apply several objective functions in a row or several gradients. This function makes sure that the two match for a good rendering of the animations."
   ]
  },
  {
   "cell_type": "code",
   "execution_count": null,
   "metadata": {},
   "outputs": [],
   "source": [
    "grad_index = 0\n",
    "grad_obj_funs = (\n",
    "    simu_inverse2.handlers.results.optim_res.obj_funs_matching_adjoint_gradients\n",
    ")\n",
    "\n",
    "# Example: [3, 4, 4, 5, 7, 8, 8, 9]\n",
    "\n",
    "aligned_adjoint_gradients = np.empty(\n",
    "    (*adjoint_gradients[:, :, :, 0].shape, obj_funs.size)\n",
    ")\n",
    "aligned_adjoint_gradients.fill(np.nan)\n",
    "\n",
    "previous_index: int = -1\n",
    "for i, index in enumerate(grad_obj_funs):\n",
    "    if index == previous_index:\n",
    "        continue\n",
    "    if index > obj_funs.size:\n",
    "        continue\n",
    "    previous_index = index\n",
    "    aligned_adjoint_gradients[:, :, :, index - 1] = adjoint_gradients[:, :, :, i]\n",
    "\n",
    "# Fill the first missing gradients\n",
    "# Gradients 1 and 2 in the example\n",
    "for i2 in range(grad_obj_funs[0] - 1):\n",
    "    aligned_adjoint_gradients[:, :, :, i2] = aligned_adjoint_gradients[\n",
    "        :, :, :, grad_obj_funs[0]\n",
    "    ]"
   ]
  },
  {
   "cell_type": "markdown",
   "metadata": {},
   "source": [
    "- Get the observations and the predictions vector to plot it against each others"
   ]
  },
  {
   "cell_type": "code",
   "execution_count": null,
   "metadata": {},
   "outputs": [],
   "source": [
    "obs_vector = simu_inverse2.get_observation_vector()\n",
    "pred_vector = simu_inverse2.get_results_matching_obs_vector(\n",
    "    simu_inverse2.get_observables()\n",
    ")"
   ]
  },
  {
   "cell_type": "markdown",
   "metadata": {},
   "source": [
    "- Plot the main results"
   ]
  },
  {
   "cell_type": "code",
   "execution_count": null,
   "metadata": {},
   "outputs": [],
   "source": [
    "plotter = ngp.AnimatedPlotter(\n",
    "    fig_params={\"figsize\": (10.0, 8.0)}, subfigs_params={\"nrows\": 2, \"ncols\": 2}\n",
    ")\n",
    "\n",
    "# 1 frame per solver iteration\n",
    "nb_frames: int = obj_funs.shape[0]\n",
    "\n",
    "# 1) Gradient evolution\n",
    "plotter.plot_1d_static(\n",
    "    ax_name=\"ax1-1\",\n",
    "    data={\n",
    "        \"Initial\": {\"data\": aligned_adjoint_gradients[:, 0, 0, 0], \"kwargs\": {\"c\": \"b\"}}\n",
    "    },\n",
    "    title=\"Gradient\",\n",
    "    xlabel=\"Node #\",\n",
    ")\n",
    "\n",
    "plotter.animated_multi_plot(\n",
    "    ax_name=\"ax1-1\",\n",
    "    nb_frames=nb_frames,\n",
    "    data={\n",
    "        \"ADJ\": {\"data\": aligned_adjoint_gradients[:, 0, 0, :], \"kwargs\": {\"c\": \"g\"}},\n",
    "    },\n",
    ")\n",
    "plotter.ax_dict[\"ax1-1\"].legend()\n",
    "\n",
    "\n",
    "# 2) Parameter evolution\n",
    "plotter.plot_1d_static(\n",
    "    ax_name=\"ax1-2\",\n",
    "    data={\n",
    "        \"True\": {\"data\": s_init_true / conv_u, \"kwargs\": {\"c\": \"b\"}},\n",
    "        \"Initial\": {\n",
    "            \"data\": adjusted_min_grade[:, 0, 0, 0] / conv_u,\n",
    "            \"kwargs\": {\"c\": \"orange\"},\n",
    "        },\n",
    "    },\n",
    "    title=\"Uraninite Field\",\n",
    "    xlabel=\"Node #\",\n",
    "    ylabel=\"[ppm]\",\n",
    ")\n",
    "\n",
    "plotter.animated_multi_plot(\n",
    "    ax_name=\"ax1-2\",\n",
    "    nb_frames=nb_frames,\n",
    "    data={\n",
    "        \"Inverted\": {\n",
    "            \"data\": adjusted_min_grade[:, 0, 0, :] / conv_u,\n",
    "            \"kwargs\": {\"c\": \"r\", \"linestyle\": \"--\"},\n",
    "        },\n",
    "    },\n",
    ")\n",
    "plotter.ax_dict[\"ax1-2\"].legend()\n",
    "\n",
    "# 3) Objective function\n",
    "vals = obj_funs\n",
    "obj_fun_vals = np.full((nb_frames, len(vals)), fill_value=np.nan)\n",
    "for i in range(len(vals)):\n",
    "    obj_fun_vals[i, : i + 1] = vals[: i + 1]\n",
    "\n",
    "plotter.animated_multi_plot(\n",
    "    ax_name=\"ax2-1\",\n",
    "    nb_frames=nb_frames,\n",
    "    data={\n",
    "        \"Obj fun\": {\"data\": obj_fun_vals.T, \"kwargs\": {\"c\": \"r\", \"linestyle\": \"--\"}},\n",
    "    },\n",
    "    title=\"Objective function\",\n",
    "    xlabel=\"Iteration #\",\n",
    ")\n",
    "plotter.ax_dict[\"ax2-1\"].set_yscale(\"log\")\n",
    "\n",
    "# 4) Observation vs predicted values\n",
    "plot_observed_vs_simulated(\n",
    "    plotter.ax_dict[\"ax2-2\"],\n",
    "    obs_vector=simu_inverse2.get_observation_vector() * 1000,\n",
    "    pred_vector=simu_inverse2.get_results_matching_obs_vector(\n",
    "        simu_inverse2.get_observables()\n",
    "    )\n",
    "    * 1000,\n",
    "    pred_vector_initial=simu_estimate.get_results_matching_obs_vector(\n",
    "        simu_inverse2.get_observables()\n",
    "    )\n",
    "    * 1000,\n",
    "    unit=\"$mmol.l^{-1}$\",\n",
    ")\n",
    "\n",
    "plotter.animate(nb_frames=nb_frames)\n",
    "# Save the animation locally on the computer\n",
    "fname_html = fig_save_path.joinpath(\"m_j_g_animation.html\")\n",
    "writer = HTMLWriter(fps=2, embed_frames=True)\n",
    "writer.frame_format = \"svg\"  # Ensure svg format\n",
    "plotter.animation.save(fname_html, writer=writer)\n",
    "\n",
    "# Extract the svg from the html file (for animation in Latex)\n",
    "ngp.extract_frames_from_embedded_html_animation(fname_html)\n",
    "\n",
    "# Display the animation\n",
    "HTML(fname_html.read_text())"
   ]
  },
  {
   "cell_type": "markdown",
   "metadata": {},
   "source": [
    "- Plot the concentrations"
   ]
  },
  {
   "cell_type": "code",
   "execution_count": null,
   "metadata": {},
   "outputs": [],
   "source": [
    "plotter = StateVariableSlicePlotter(nb_obs_loc=3, nb_obs_type=1)\n",
    "for i, node_id in enumerate([6, 10, 15]):\n",
    "    x = (node_id + 0.5) * model_true.dx\n",
    "    obs_well_name = f\"obs. well @ node #{node_id} (x={x}m)\"\n",
    "\n",
    "    plotter.plot_state(\n",
    "        row_id=i,\n",
    "        obs_well_name=obs_well_name,\n",
    "        data={\n",
    "            \"Tracer (HYTEC)\": {\n",
    "                \"True (noisy)\": (\n",
    "                    make_noisy(fwd_conc_true_hytec[node_id, 0, 0, :]),\n",
    "                    {\"c\": \"g\", \"linestyle\": \"none\", \"marker\": \".\", \"alpha\": 0.5},\n",
    "                ),\n",
    "                \"A priori (estimate)\": (\n",
    "                    fwd_conc_estimate_hytec[node_id, 0, 0, :],\n",
    "                    {\"c\": \"r\"},\n",
    "                ),\n",
    "                \"Post inversion\": (\n",
    "                    fwd_conc_inversed_hytec[node_id, 0, 0, :],\n",
    "                    {\"c\": \"b\"},\n",
    "                ),\n",
    "            },\n",
    "        },\n",
    "    )\n",
    "plotter.add_fig_legend(ncol=2)\n",
    "\n",
    "fname = \"tracer_concentrations_after_inversion\"\n",
    "for format in [\"png\", \"pdf\"]:\n",
    "    plotter.savefig((fig_save_path.joinpath(f\"{fname}.{format}\")), format=format)"
   ]
  }
 ],
 "metadata": {
  "interpreter": {
   "hash": "dcef77e0dabfbf37e54a3b802eb724b14f0a86b07a600ec9a0955ad16bb29384"
  },
  "kernelspec": {
   "display_name": "Python 3 (ipykernel)",
   "language": "python",
   "name": "python3"
  },
  "language_info": {
   "codemirror_mode": {
    "name": "ipython",
    "version": 3
   },
   "file_extension": ".py",
   "mimetype": "text/x-python",
   "name": "python",
   "nbconvert_exporter": "python",
   "pygments_lexer": "ipython3",
   "version": "3.9.7"
  }
 },
 "nbformat": 4,
 "nbformat_minor": 2
}
